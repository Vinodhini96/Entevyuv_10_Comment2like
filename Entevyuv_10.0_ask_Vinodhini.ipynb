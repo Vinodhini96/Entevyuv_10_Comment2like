{
 "cells": [
  {
   "cell_type": "markdown",
   "id": "9cfc8226",
   "metadata": {},
   "source": [
    "# Comment2Likes: Estimating Video Likes using Comment Data"
   ]
  },
  {
   "cell_type": "markdown",
   "id": "7ff21186",
   "metadata": {},
   "source": [
    "### Problem Statement:"
   ]
  },
  {
   "cell_type": "markdown",
   "id": "f7c4ec56",
   "metadata": {},
   "source": [
    "The objective of the \"Comment2Likes: Estimating Video Likes using Comment Data\" project is\n",
    "to develop a predictive model that can estimate the number of likes a video will receive based\n",
    "on the information extracted from its comments. By leveraging the valuable insights present in\n",
    "user comments, this project aims to provide content creators, marketers, and platform\n",
    "administrators with a tool to gauge the potential popularity of their videos and optimize their\n",
    "content strategies accordingly."
   ]
  },
  {
   "cell_type": "markdown",
   "id": "2f0e4c71",
   "metadata": {},
   "source": [
    "## Import Libraries"
   ]
  },
  {
   "cell_type": "code",
   "execution_count": 1,
   "id": "efc48ba7",
   "metadata": {},
   "outputs": [
    {
     "name": "stderr",
     "output_type": "stream",
     "text": [
      "[nltk_data] Downloading package stopwords to\n",
      "[nltk_data]     C:\\Users\\avino\\AppData\\Roaming\\nltk_data...\n",
      "[nltk_data]   Package stopwords is already up-to-date!\n",
      "[nltk_data] Downloading package wordnet to\n",
      "[nltk_data]     C:\\Users\\avino\\AppData\\Roaming\\nltk_data...\n",
      "[nltk_data]   Package wordnet is already up-to-date!\n"
     ]
    }
   ],
   "source": [
    "#data manipulation\n",
    "import pandas as pd\n",
    "\n",
    "#data visualization\n",
    "import matplotlib.pyplot as plt\n",
    "import seaborn as sns\n",
    "\n",
    "#for splitting data\n",
    "from sklearn.model_selection import train_test_split\n",
    "\n",
    "#scaling\n",
    "from sklearn.preprocessing import StandardScaler\n",
    "\n",
    "#regular expression\n",
    "import re\n",
    "\n",
    "#NLP\n",
    "import nltk\n",
    "import spacy\n",
    "from nltk.corpus import stopwords\n",
    "from nltk.stem import WordNetLemmatizer\n",
    "\n",
    "#test vectorizer\n",
    "from sklearn.feature_extraction.text import CountVectorizer\n",
    "\n",
    "#algorithms\n",
    "from sklearn.tree import DecisionTreeRegressor\n",
    "from sklearn.ensemble import RandomForestRegressor\n",
    "from sklearn.ensemble import GradientBoostingRegressor\n",
    "\n",
    "\n",
    "#Evaluation\n",
    "from sklearn.metrics import mean_squared_error, mean_absolute_error, r2_score\n"
   ]
  },
  {
   "cell_type": "markdown",
   "id": "56817c64",
   "metadata": {},
   "source": [
    "## 1.  Load Data"
   ]
  },
  {
   "cell_type": "code",
   "execution_count": 2,
   "id": "f3487c13",
   "metadata": {},
   "outputs": [],
   "source": [
    "#data 1\n",
    "video = pd.read_csv(\"videos-stats.csv\")"
   ]
  },
  {
   "cell_type": "code",
   "execution_count": 3,
   "id": "ddcebc8a",
   "metadata": {},
   "outputs": [],
   "source": [
    "# data 2 \n",
    "comments = pd.read_csv(\"comments.csv\")"
   ]
  },
  {
   "cell_type": "markdown",
   "id": "392cf5ea",
   "metadata": {},
   "source": [
    "## 2.View Data"
   ]
  },
  {
   "cell_type": "markdown",
   "id": "29837ef8",
   "metadata": {},
   "source": [
    "###### Data 1"
   ]
  },
  {
   "cell_type": "code",
   "execution_count": 4,
   "id": "95b757b4",
   "metadata": {},
   "outputs": [
    {
     "data": {
      "text/html": [
       "<div>\n",
       "<style scoped>\n",
       "    .dataframe tbody tr th:only-of-type {\n",
       "        vertical-align: middle;\n",
       "    }\n",
       "\n",
       "    .dataframe tbody tr th {\n",
       "        vertical-align: top;\n",
       "    }\n",
       "\n",
       "    .dataframe thead th {\n",
       "        text-align: right;\n",
       "    }\n",
       "</style>\n",
       "<table border=\"1\" class=\"dataframe\">\n",
       "  <thead>\n",
       "    <tr style=\"text-align: right;\">\n",
       "      <th></th>\n",
       "      <th>Unnamed: 0</th>\n",
       "      <th>Title</th>\n",
       "      <th>Video ID</th>\n",
       "      <th>Published At</th>\n",
       "      <th>Keyword</th>\n",
       "      <th>Likes</th>\n",
       "      <th>Comments</th>\n",
       "      <th>Views</th>\n",
       "    </tr>\n",
       "  </thead>\n",
       "  <tbody>\n",
       "    <tr>\n",
       "      <th>0</th>\n",
       "      <td>0</td>\n",
       "      <td>Apple Pay Is Killing the Physical Wallet After...</td>\n",
       "      <td>wAZZ-UWGVHI</td>\n",
       "      <td>2022-08-23</td>\n",
       "      <td>tech</td>\n",
       "      <td>3407.0</td>\n",
       "      <td>672.0</td>\n",
       "      <td>135612.0</td>\n",
       "    </tr>\n",
       "    <tr>\n",
       "      <th>1</th>\n",
       "      <td>1</td>\n",
       "      <td>The most EXPENSIVE thing I own.</td>\n",
       "      <td>b3x28s61q3c</td>\n",
       "      <td>2022-08-24</td>\n",
       "      <td>tech</td>\n",
       "      <td>76779.0</td>\n",
       "      <td>4306.0</td>\n",
       "      <td>1758063.0</td>\n",
       "    </tr>\n",
       "    <tr>\n",
       "      <th>2</th>\n",
       "      <td>2</td>\n",
       "      <td>My New House Gaming Setup is SICK!</td>\n",
       "      <td>4mgePWWCAmA</td>\n",
       "      <td>2022-08-23</td>\n",
       "      <td>tech</td>\n",
       "      <td>63825.0</td>\n",
       "      <td>3338.0</td>\n",
       "      <td>1564007.0</td>\n",
       "    </tr>\n",
       "    <tr>\n",
       "      <th>3</th>\n",
       "      <td>3</td>\n",
       "      <td>Petrol Vs Liquid Nitrogen | Freezing Experimen...</td>\n",
       "      <td>kXiYSI7H2b0</td>\n",
       "      <td>2022-08-23</td>\n",
       "      <td>tech</td>\n",
       "      <td>71566.0</td>\n",
       "      <td>1426.0</td>\n",
       "      <td>922918.0</td>\n",
       "    </tr>\n",
       "    <tr>\n",
       "      <th>4</th>\n",
       "      <td>4</td>\n",
       "      <td>Best Back to School Tech 2022!</td>\n",
       "      <td>ErMwWXQxHp0</td>\n",
       "      <td>2022-08-08</td>\n",
       "      <td>tech</td>\n",
       "      <td>96513.0</td>\n",
       "      <td>5155.0</td>\n",
       "      <td>1855644.0</td>\n",
       "    </tr>\n",
       "  </tbody>\n",
       "</table>\n",
       "</div>"
      ],
      "text/plain": [
       "   Unnamed: 0                                              Title     Video ID  \\\n",
       "0           0  Apple Pay Is Killing the Physical Wallet After...  wAZZ-UWGVHI   \n",
       "1           1                    The most EXPENSIVE thing I own.  b3x28s61q3c   \n",
       "2           2                 My New House Gaming Setup is SICK!  4mgePWWCAmA   \n",
       "3           3  Petrol Vs Liquid Nitrogen | Freezing Experimen...  kXiYSI7H2b0   \n",
       "4           4                     Best Back to School Tech 2022!  ErMwWXQxHp0   \n",
       "\n",
       "  Published At Keyword    Likes  Comments      Views  \n",
       "0   2022-08-23    tech   3407.0     672.0   135612.0  \n",
       "1   2022-08-24    tech  76779.0    4306.0  1758063.0  \n",
       "2   2022-08-23    tech  63825.0    3338.0  1564007.0  \n",
       "3   2022-08-23    tech  71566.0    1426.0   922918.0  \n",
       "4   2022-08-08    tech  96513.0    5155.0  1855644.0  "
      ]
     },
     "execution_count": 4,
     "metadata": {},
     "output_type": "execute_result"
    }
   ],
   "source": [
    "video.head()"
   ]
  },
  {
   "cell_type": "markdown",
   "id": "fe7856d6",
   "metadata": {},
   "source": [
    "###### Data 2"
   ]
  },
  {
   "cell_type": "code",
   "execution_count": 5,
   "id": "fb26b5fc",
   "metadata": {},
   "outputs": [
    {
     "data": {
      "text/html": [
       "<div>\n",
       "<style scoped>\n",
       "    .dataframe tbody tr th:only-of-type {\n",
       "        vertical-align: middle;\n",
       "    }\n",
       "\n",
       "    .dataframe tbody tr th {\n",
       "        vertical-align: top;\n",
       "    }\n",
       "\n",
       "    .dataframe thead th {\n",
       "        text-align: right;\n",
       "    }\n",
       "</style>\n",
       "<table border=\"1\" class=\"dataframe\">\n",
       "  <thead>\n",
       "    <tr style=\"text-align: right;\">\n",
       "      <th></th>\n",
       "      <th>Unnamed: 0</th>\n",
       "      <th>Video ID</th>\n",
       "      <th>Comment</th>\n",
       "      <th>Likes</th>\n",
       "      <th>Sentiment</th>\n",
       "    </tr>\n",
       "  </thead>\n",
       "  <tbody>\n",
       "    <tr>\n",
       "      <th>0</th>\n",
       "      <td>0</td>\n",
       "      <td>wAZZ-UWGVHI</td>\n",
       "      <td>Let's not forget that Apple Pay in 2014 requir...</td>\n",
       "      <td>95.0</td>\n",
       "      <td>1.0</td>\n",
       "    </tr>\n",
       "    <tr>\n",
       "      <th>1</th>\n",
       "      <td>1</td>\n",
       "      <td>wAZZ-UWGVHI</td>\n",
       "      <td>Here in NZ 50% of retailers don’t even have co...</td>\n",
       "      <td>19.0</td>\n",
       "      <td>0.0</td>\n",
       "    </tr>\n",
       "    <tr>\n",
       "      <th>2</th>\n",
       "      <td>2</td>\n",
       "      <td>wAZZ-UWGVHI</td>\n",
       "      <td>I will forever acknowledge this channel with t...</td>\n",
       "      <td>161.0</td>\n",
       "      <td>2.0</td>\n",
       "    </tr>\n",
       "    <tr>\n",
       "      <th>3</th>\n",
       "      <td>3</td>\n",
       "      <td>wAZZ-UWGVHI</td>\n",
       "      <td>Whenever I go to a place that doesn’t take App...</td>\n",
       "      <td>8.0</td>\n",
       "      <td>0.0</td>\n",
       "    </tr>\n",
       "    <tr>\n",
       "      <th>4</th>\n",
       "      <td>4</td>\n",
       "      <td>wAZZ-UWGVHI</td>\n",
       "      <td>Apple Pay is so convenient, secure, and easy t...</td>\n",
       "      <td>34.0</td>\n",
       "      <td>2.0</td>\n",
       "    </tr>\n",
       "  </tbody>\n",
       "</table>\n",
       "</div>"
      ],
      "text/plain": [
       "   Unnamed: 0     Video ID                                            Comment  \\\n",
       "0           0  wAZZ-UWGVHI  Let's not forget that Apple Pay in 2014 requir...   \n",
       "1           1  wAZZ-UWGVHI  Here in NZ 50% of retailers don’t even have co...   \n",
       "2           2  wAZZ-UWGVHI  I will forever acknowledge this channel with t...   \n",
       "3           3  wAZZ-UWGVHI  Whenever I go to a place that doesn’t take App...   \n",
       "4           4  wAZZ-UWGVHI  Apple Pay is so convenient, secure, and easy t...   \n",
       "\n",
       "   Likes  Sentiment  \n",
       "0   95.0        1.0  \n",
       "1   19.0        0.0  \n",
       "2  161.0        2.0  \n",
       "3    8.0        0.0  \n",
       "4   34.0        2.0  "
      ]
     },
     "execution_count": 5,
     "metadata": {},
     "output_type": "execute_result"
    }
   ],
   "source": [
    "comments.head()"
   ]
  },
  {
   "cell_type": "markdown",
   "id": "2382b443",
   "metadata": {},
   "source": [
    "### 2.1 Data Shape"
   ]
  },
  {
   "cell_type": "code",
   "execution_count": 6,
   "id": "cf6b9a3d",
   "metadata": {},
   "outputs": [
    {
     "name": "stdout",
     "output_type": "stream",
     "text": [
      "shape of video stats data :  (1881, 8)\n",
      "shape of comments data :  (18409, 5)\n"
     ]
    }
   ],
   "source": [
    "#check the shape of the data\n",
    "\n",
    "#shape of video stats data\n",
    "print(\"shape of video stats data : \", video.shape)\n",
    "\n",
    "#shape of comments data\n",
    "print(\"shape of comments data : \", comments.shape)"
   ]
  },
  {
   "cell_type": "markdown",
   "id": "74160122",
   "metadata": {},
   "source": [
    "### 2.2 Basic Information"
   ]
  },
  {
   "cell_type": "code",
   "execution_count": 7,
   "id": "13fe58d3",
   "metadata": {},
   "outputs": [
    {
     "name": "stdout",
     "output_type": "stream",
     "text": [
      "<class 'pandas.core.frame.DataFrame'>\n",
      "RangeIndex: 1881 entries, 0 to 1880\n",
      "Data columns (total 8 columns):\n",
      " #   Column        Non-Null Count  Dtype  \n",
      "---  ------        --------------  -----  \n",
      " 0   Unnamed: 0    1881 non-null   int64  \n",
      " 1   Title         1881 non-null   object \n",
      " 2   Video ID      1881 non-null   object \n",
      " 3   Published At  1881 non-null   object \n",
      " 4   Keyword       1881 non-null   object \n",
      " 5   Likes         1879 non-null   float64\n",
      " 6   Comments      1879 non-null   float64\n",
      " 7   Views         1879 non-null   float64\n",
      "dtypes: float64(3), int64(1), object(4)\n",
      "memory usage: 117.7+ KB\n",
      "video data :  None\n",
      "\n",
      "\n",
      "<class 'pandas.core.frame.DataFrame'>\n",
      "RangeIndex: 18409 entries, 0 to 18408\n",
      "Data columns (total 5 columns):\n",
      " #   Column      Non-Null Count  Dtype  \n",
      "---  ------      --------------  -----  \n",
      " 0   Unnamed: 0  18409 non-null  int64  \n",
      " 1   Video ID    18409 non-null  object \n",
      " 2   Comment     18408 non-null  object \n",
      " 3   Likes       18409 non-null  float64\n",
      " 4   Sentiment   18409 non-null  float64\n",
      "dtypes: float64(2), int64(1), object(2)\n",
      "memory usage: 719.2+ KB\n",
      "comment data :  None\n"
     ]
    }
   ],
   "source": [
    "#check for basic information of the data\n",
    "\n",
    "#video data\n",
    "print(\"video data : \", video.info())\n",
    "\n",
    "print(\"\\n\") # for space between the 2 results\n",
    "\n",
    "#comment data\n",
    "print(\"comment data : \", comments.info())"
   ]
  },
  {
   "cell_type": "markdown",
   "id": "c19d4ae7",
   "metadata": {},
   "source": [
    "### 2.3 Statistical Information"
   ]
  },
  {
   "cell_type": "code",
   "execution_count": 8,
   "id": "170b6afc",
   "metadata": {},
   "outputs": [],
   "source": [
    "#check for statistical  information of the data"
   ]
  },
  {
   "cell_type": "code",
   "execution_count": 9,
   "id": "402fa259",
   "metadata": {},
   "outputs": [
    {
     "data": {
      "text/html": [
       "<div>\n",
       "<style scoped>\n",
       "    .dataframe tbody tr th:only-of-type {\n",
       "        vertical-align: middle;\n",
       "    }\n",
       "\n",
       "    .dataframe tbody tr th {\n",
       "        vertical-align: top;\n",
       "    }\n",
       "\n",
       "    .dataframe thead th {\n",
       "        text-align: right;\n",
       "    }\n",
       "</style>\n",
       "<table border=\"1\" class=\"dataframe\">\n",
       "  <thead>\n",
       "    <tr style=\"text-align: right;\">\n",
       "      <th></th>\n",
       "      <th>Unnamed: 0</th>\n",
       "      <th>Likes</th>\n",
       "      <th>Comments</th>\n",
       "      <th>Views</th>\n",
       "    </tr>\n",
       "  </thead>\n",
       "  <tbody>\n",
       "    <tr>\n",
       "      <th>count</th>\n",
       "      <td>1881.000000</td>\n",
       "      <td>1.879000e+03</td>\n",
       "      <td>1879.000000</td>\n",
       "      <td>1.879000e+03</td>\n",
       "    </tr>\n",
       "    <tr>\n",
       "      <th>mean</th>\n",
       "      <td>940.000000</td>\n",
       "      <td>1.700610e+05</td>\n",
       "      <td>7863.331559</td>\n",
       "      <td>1.161292e+07</td>\n",
       "    </tr>\n",
       "    <tr>\n",
       "      <th>std</th>\n",
       "      <td>543.142247</td>\n",
       "      <td>7.962293e+05</td>\n",
       "      <td>37879.964926</td>\n",
       "      <td>1.084450e+08</td>\n",
       "    </tr>\n",
       "    <tr>\n",
       "      <th>min</th>\n",
       "      <td>0.000000</td>\n",
       "      <td>-1.000000e+00</td>\n",
       "      <td>-1.000000</td>\n",
       "      <td>2.500000e+01</td>\n",
       "    </tr>\n",
       "    <tr>\n",
       "      <th>25%</th>\n",
       "      <td>470.000000</td>\n",
       "      <td>2.672500e+03</td>\n",
       "      <td>199.000000</td>\n",
       "      <td>8.451500e+04</td>\n",
       "    </tr>\n",
       "    <tr>\n",
       "      <th>50%</th>\n",
       "      <td>940.000000</td>\n",
       "      <td>1.478700e+04</td>\n",
       "      <td>814.000000</td>\n",
       "      <td>5.917210e+05</td>\n",
       "    </tr>\n",
       "    <tr>\n",
       "      <th>75%</th>\n",
       "      <td>1410.000000</td>\n",
       "      <td>6.090600e+04</td>\n",
       "      <td>3377.500000</td>\n",
       "      <td>2.804978e+06</td>\n",
       "    </tr>\n",
       "    <tr>\n",
       "      <th>max</th>\n",
       "      <td>1880.000000</td>\n",
       "      <td>1.644556e+07</td>\n",
       "      <td>732818.000000</td>\n",
       "      <td>4.034122e+09</td>\n",
       "    </tr>\n",
       "  </tbody>\n",
       "</table>\n",
       "</div>"
      ],
      "text/plain": [
       "        Unnamed: 0         Likes       Comments         Views\n",
       "count  1881.000000  1.879000e+03    1879.000000  1.879000e+03\n",
       "mean    940.000000  1.700610e+05    7863.331559  1.161292e+07\n",
       "std     543.142247  7.962293e+05   37879.964926  1.084450e+08\n",
       "min       0.000000 -1.000000e+00      -1.000000  2.500000e+01\n",
       "25%     470.000000  2.672500e+03     199.000000  8.451500e+04\n",
       "50%     940.000000  1.478700e+04     814.000000  5.917210e+05\n",
       "75%    1410.000000  6.090600e+04    3377.500000  2.804978e+06\n",
       "max    1880.000000  1.644556e+07  732818.000000  4.034122e+09"
      ]
     },
     "execution_count": 9,
     "metadata": {},
     "output_type": "execute_result"
    }
   ],
   "source": [
    "#video data\n",
    "video.describe()"
   ]
  },
  {
   "cell_type": "code",
   "execution_count": 10,
   "id": "dc02f36f",
   "metadata": {},
   "outputs": [
    {
     "data": {
      "text/html": [
       "<div>\n",
       "<style scoped>\n",
       "    .dataframe tbody tr th:only-of-type {\n",
       "        vertical-align: middle;\n",
       "    }\n",
       "\n",
       "    .dataframe tbody tr th {\n",
       "        vertical-align: top;\n",
       "    }\n",
       "\n",
       "    .dataframe thead th {\n",
       "        text-align: right;\n",
       "    }\n",
       "</style>\n",
       "<table border=\"1\" class=\"dataframe\">\n",
       "  <thead>\n",
       "    <tr style=\"text-align: right;\">\n",
       "      <th></th>\n",
       "      <th>Unnamed: 0</th>\n",
       "      <th>Likes</th>\n",
       "      <th>Sentiment</th>\n",
       "    </tr>\n",
       "  </thead>\n",
       "  <tbody>\n",
       "    <tr>\n",
       "      <th>count</th>\n",
       "      <td>18409.000000</td>\n",
       "      <td>18409.000000</td>\n",
       "      <td>18409.000000</td>\n",
       "    </tr>\n",
       "    <tr>\n",
       "      <th>mean</th>\n",
       "      <td>9204.000000</td>\n",
       "      <td>1040.019447</td>\n",
       "      <td>1.493998</td>\n",
       "    </tr>\n",
       "    <tr>\n",
       "      <th>std</th>\n",
       "      <td>5314.364888</td>\n",
       "      <td>10651.366148</td>\n",
       "      <td>0.709928</td>\n",
       "    </tr>\n",
       "    <tr>\n",
       "      <th>min</th>\n",
       "      <td>0.000000</td>\n",
       "      <td>0.000000</td>\n",
       "      <td>0.000000</td>\n",
       "    </tr>\n",
       "    <tr>\n",
       "      <th>25%</th>\n",
       "      <td>4602.000000</td>\n",
       "      <td>5.000000</td>\n",
       "      <td>1.000000</td>\n",
       "    </tr>\n",
       "    <tr>\n",
       "      <th>50%</th>\n",
       "      <td>9204.000000</td>\n",
       "      <td>29.000000</td>\n",
       "      <td>2.000000</td>\n",
       "    </tr>\n",
       "    <tr>\n",
       "      <th>75%</th>\n",
       "      <td>13806.000000</td>\n",
       "      <td>190.000000</td>\n",
       "      <td>2.000000</td>\n",
       "    </tr>\n",
       "    <tr>\n",
       "      <th>max</th>\n",
       "      <td>18408.000000</td>\n",
       "      <td>891372.000000</td>\n",
       "      <td>2.000000</td>\n",
       "    </tr>\n",
       "  </tbody>\n",
       "</table>\n",
       "</div>"
      ],
      "text/plain": [
       "         Unnamed: 0          Likes     Sentiment\n",
       "count  18409.000000   18409.000000  18409.000000\n",
       "mean    9204.000000    1040.019447      1.493998\n",
       "std     5314.364888   10651.366148      0.709928\n",
       "min        0.000000       0.000000      0.000000\n",
       "25%     4602.000000       5.000000      1.000000\n",
       "50%     9204.000000      29.000000      2.000000\n",
       "75%    13806.000000     190.000000      2.000000\n",
       "max    18408.000000  891372.000000      2.000000"
      ]
     },
     "execution_count": 10,
     "metadata": {},
     "output_type": "execute_result"
    }
   ],
   "source": [
    "#comment data\n",
    "comments.describe()"
   ]
  },
  {
   "cell_type": "markdown",
   "id": "d223dadd",
   "metadata": {},
   "source": [
    "### 2.4 Duplicated Values"
   ]
  },
  {
   "cell_type": "code",
   "execution_count": 11,
   "id": "c7374efb",
   "metadata": {},
   "outputs": [
    {
     "name": "stdout",
     "output_type": "stream",
     "text": [
      "video data :  0\n",
      "comment data :  0\n"
     ]
    }
   ],
   "source": [
    "#check for duplicate values in the data\n",
    "\n",
    "#video data\n",
    "print(\"video data : \", video.duplicated().sum())\n",
    "\n",
    "#comment data\n",
    "print(\"comment data : \", comments.duplicated().sum())"
   ]
  },
  {
   "cell_type": "markdown",
   "id": "621c04ad",
   "metadata": {},
   "source": [
    "### 2.5 Null values"
   ]
  },
  {
   "cell_type": "code",
   "execution_count": 12,
   "id": "6de0a99b",
   "metadata": {},
   "outputs": [
    {
     "name": "stdout",
     "output_type": "stream",
     "text": [
      "video data :  Unnamed: 0      0\n",
      "Title           0\n",
      "Video ID        0\n",
      "Published At    0\n",
      "Keyword         0\n",
      "Likes           2\n",
      "Comments        2\n",
      "Views           2\n",
      "dtype: int64\n",
      "\n",
      "\n",
      "comment data :  Unnamed: 0    0\n",
      "Video ID      0\n",
      "Comment       1\n",
      "Likes         0\n",
      "Sentiment     0\n",
      "dtype: int64\n"
     ]
    }
   ],
   "source": [
    "#check for null values in the data\n",
    "\n",
    "#video data\n",
    "print(\"video data : \", video.isnull().sum())\n",
    "\n",
    "print(\"\\n\") # for space between the 2 results\n",
    "\n",
    "#comment data\n",
    "print(\"comment data : \", comments.isnull().sum())"
   ]
  },
  {
   "cell_type": "markdown",
   "id": "591a7b52",
   "metadata": {},
   "source": [
    "we have a few null values which we will handle during data cleaning"
   ]
  },
  {
   "cell_type": "markdown",
   "id": "49faf40a",
   "metadata": {},
   "source": [
    "## 3 Data Merging"
   ]
  },
  {
   "cell_type": "markdown",
   "id": "80a58bf0",
   "metadata": {},
   "source": [
    "since there are two datasets, it is neecessary to merge them. As they have a column c called VIDEO ID , we will merge the 2 data on video id column."
   ]
  },
  {
   "cell_type": "code",
   "execution_count": 13,
   "id": "178b024f",
   "metadata": {},
   "outputs": [
    {
     "data": {
      "text/html": [
       "<div>\n",
       "<style scoped>\n",
       "    .dataframe tbody tr th:only-of-type {\n",
       "        vertical-align: middle;\n",
       "    }\n",
       "\n",
       "    .dataframe tbody tr th {\n",
       "        vertical-align: top;\n",
       "    }\n",
       "\n",
       "    .dataframe thead th {\n",
       "        text-align: right;\n",
       "    }\n",
       "</style>\n",
       "<table border=\"1\" class=\"dataframe\">\n",
       "  <thead>\n",
       "    <tr style=\"text-align: right;\">\n",
       "      <th></th>\n",
       "      <th>Unnamed: 0_x</th>\n",
       "      <th>Title</th>\n",
       "      <th>Video ID</th>\n",
       "      <th>Published At</th>\n",
       "      <th>Keyword</th>\n",
       "      <th>Likes_x</th>\n",
       "      <th>Comments</th>\n",
       "      <th>Views</th>\n",
       "      <th>Unnamed: 0_y</th>\n",
       "      <th>Comment</th>\n",
       "      <th>Likes_y</th>\n",
       "      <th>Sentiment</th>\n",
       "    </tr>\n",
       "  </thead>\n",
       "  <tbody>\n",
       "    <tr>\n",
       "      <th>0</th>\n",
       "      <td>0</td>\n",
       "      <td>Apple Pay Is Killing the Physical Wallet After...</td>\n",
       "      <td>wAZZ-UWGVHI</td>\n",
       "      <td>2022-08-23</td>\n",
       "      <td>tech</td>\n",
       "      <td>3407.0</td>\n",
       "      <td>672.0</td>\n",
       "      <td>135612.0</td>\n",
       "      <td>0</td>\n",
       "      <td>Let's not forget that Apple Pay in 2014 requir...</td>\n",
       "      <td>95.0</td>\n",
       "      <td>1.0</td>\n",
       "    </tr>\n",
       "    <tr>\n",
       "      <th>1</th>\n",
       "      <td>0</td>\n",
       "      <td>Apple Pay Is Killing the Physical Wallet After...</td>\n",
       "      <td>wAZZ-UWGVHI</td>\n",
       "      <td>2022-08-23</td>\n",
       "      <td>tech</td>\n",
       "      <td>3407.0</td>\n",
       "      <td>672.0</td>\n",
       "      <td>135612.0</td>\n",
       "      <td>1</td>\n",
       "      <td>Here in NZ 50% of retailers don’t even have co...</td>\n",
       "      <td>19.0</td>\n",
       "      <td>0.0</td>\n",
       "    </tr>\n",
       "    <tr>\n",
       "      <th>2</th>\n",
       "      <td>0</td>\n",
       "      <td>Apple Pay Is Killing the Physical Wallet After...</td>\n",
       "      <td>wAZZ-UWGVHI</td>\n",
       "      <td>2022-08-23</td>\n",
       "      <td>tech</td>\n",
       "      <td>3407.0</td>\n",
       "      <td>672.0</td>\n",
       "      <td>135612.0</td>\n",
       "      <td>2</td>\n",
       "      <td>I will forever acknowledge this channel with t...</td>\n",
       "      <td>161.0</td>\n",
       "      <td>2.0</td>\n",
       "    </tr>\n",
       "    <tr>\n",
       "      <th>3</th>\n",
       "      <td>0</td>\n",
       "      <td>Apple Pay Is Killing the Physical Wallet After...</td>\n",
       "      <td>wAZZ-UWGVHI</td>\n",
       "      <td>2022-08-23</td>\n",
       "      <td>tech</td>\n",
       "      <td>3407.0</td>\n",
       "      <td>672.0</td>\n",
       "      <td>135612.0</td>\n",
       "      <td>3</td>\n",
       "      <td>Whenever I go to a place that doesn’t take App...</td>\n",
       "      <td>8.0</td>\n",
       "      <td>0.0</td>\n",
       "    </tr>\n",
       "    <tr>\n",
       "      <th>4</th>\n",
       "      <td>0</td>\n",
       "      <td>Apple Pay Is Killing the Physical Wallet After...</td>\n",
       "      <td>wAZZ-UWGVHI</td>\n",
       "      <td>2022-08-23</td>\n",
       "      <td>tech</td>\n",
       "      <td>3407.0</td>\n",
       "      <td>672.0</td>\n",
       "      <td>135612.0</td>\n",
       "      <td>4</td>\n",
       "      <td>Apple Pay is so convenient, secure, and easy t...</td>\n",
       "      <td>34.0</td>\n",
       "      <td>2.0</td>\n",
       "    </tr>\n",
       "  </tbody>\n",
       "</table>\n",
       "</div>"
      ],
      "text/plain": [
       "   Unnamed: 0_x                                              Title  \\\n",
       "0             0  Apple Pay Is Killing the Physical Wallet After...   \n",
       "1             0  Apple Pay Is Killing the Physical Wallet After...   \n",
       "2             0  Apple Pay Is Killing the Physical Wallet After...   \n",
       "3             0  Apple Pay Is Killing the Physical Wallet After...   \n",
       "4             0  Apple Pay Is Killing the Physical Wallet After...   \n",
       "\n",
       "      Video ID Published At Keyword  Likes_x  Comments     Views  \\\n",
       "0  wAZZ-UWGVHI   2022-08-23    tech   3407.0     672.0  135612.0   \n",
       "1  wAZZ-UWGVHI   2022-08-23    tech   3407.0     672.0  135612.0   \n",
       "2  wAZZ-UWGVHI   2022-08-23    tech   3407.0     672.0  135612.0   \n",
       "3  wAZZ-UWGVHI   2022-08-23    tech   3407.0     672.0  135612.0   \n",
       "4  wAZZ-UWGVHI   2022-08-23    tech   3407.0     672.0  135612.0   \n",
       "\n",
       "   Unnamed: 0_y                                            Comment  Likes_y  \\\n",
       "0             0  Let's not forget that Apple Pay in 2014 requir...     95.0   \n",
       "1             1  Here in NZ 50% of retailers don’t even have co...     19.0   \n",
       "2             2  I will forever acknowledge this channel with t...    161.0   \n",
       "3             3  Whenever I go to a place that doesn’t take App...      8.0   \n",
       "4             4  Apple Pay is so convenient, secure, and easy t...     34.0   \n",
       "\n",
       "   Sentiment  \n",
       "0        1.0  \n",
       "1        0.0  \n",
       "2        2.0  \n",
       "3        0.0  \n",
       "4        2.0  "
      ]
     },
     "execution_count": 13,
     "metadata": {},
     "output_type": "execute_result"
    }
   ],
   "source": [
    "# Merge the 2 datasets on the 'Video ID' column\n",
    "merged_data = pd.merge(video, comments, on='Video ID', how='inner')\n",
    "\n",
    "# Display the merged data\n",
    "merged_data.head()"
   ]
  },
  {
   "cell_type": "markdown",
   "id": "e942bc53",
   "metadata": {},
   "source": [
    "### 3.1. check for the shape of the merged data"
   ]
  },
  {
   "cell_type": "code",
   "execution_count": 14,
   "id": "6f00bb41",
   "metadata": {},
   "outputs": [
    {
     "data": {
      "text/plain": [
       "(18645, 12)"
      ]
     },
     "execution_count": 14,
     "metadata": {},
     "output_type": "execute_result"
    }
   ],
   "source": [
    "merged_data.shape"
   ]
  },
  {
   "cell_type": "markdown",
   "id": "6bd64797",
   "metadata": {},
   "source": [
    "### 3.2. check for basic information"
   ]
  },
  {
   "cell_type": "code",
   "execution_count": 15,
   "id": "f1caac47",
   "metadata": {},
   "outputs": [
    {
     "name": "stdout",
     "output_type": "stream",
     "text": [
      "<class 'pandas.core.frame.DataFrame'>\n",
      "Int64Index: 18645 entries, 0 to 18644\n",
      "Data columns (total 12 columns):\n",
      " #   Column        Non-Null Count  Dtype  \n",
      "---  ------        --------------  -----  \n",
      " 0   Unnamed: 0_x  18645 non-null  int64  \n",
      " 1   Title         18645 non-null  object \n",
      " 2   Video ID      18645 non-null  object \n",
      " 3   Published At  18645 non-null  object \n",
      " 4   Keyword       18645 non-null  object \n",
      " 5   Likes_x       18625 non-null  float64\n",
      " 6   Comments      18625 non-null  float64\n",
      " 7   Views         18625 non-null  float64\n",
      " 8   Unnamed: 0_y  18645 non-null  int64  \n",
      " 9   Comment       18644 non-null  object \n",
      " 10  Likes_y       18645 non-null  float64\n",
      " 11  Sentiment     18645 non-null  float64\n",
      "dtypes: float64(5), int64(2), object(5)\n",
      "memory usage: 1.8+ MB\n"
     ]
    }
   ],
   "source": [
    "merged_data.info()"
   ]
  },
  {
   "cell_type": "markdown",
   "id": "f4b32b50",
   "metadata": {},
   "source": [
    "### 3.3. check for statistical information"
   ]
  },
  {
   "cell_type": "code",
   "execution_count": 16,
   "id": "e697ea0e",
   "metadata": {},
   "outputs": [
    {
     "data": {
      "text/html": [
       "<div>\n",
       "<style scoped>\n",
       "    .dataframe tbody tr th:only-of-type {\n",
       "        vertical-align: middle;\n",
       "    }\n",
       "\n",
       "    .dataframe tbody tr th {\n",
       "        vertical-align: top;\n",
       "    }\n",
       "\n",
       "    .dataframe thead th {\n",
       "        text-align: right;\n",
       "    }\n",
       "</style>\n",
       "<table border=\"1\" class=\"dataframe\">\n",
       "  <thead>\n",
       "    <tr style=\"text-align: right;\">\n",
       "      <th></th>\n",
       "      <th>Unnamed: 0_x</th>\n",
       "      <th>Likes_x</th>\n",
       "      <th>Comments</th>\n",
       "      <th>Views</th>\n",
       "      <th>Unnamed: 0_y</th>\n",
       "      <th>Likes_y</th>\n",
       "      <th>Sentiment</th>\n",
       "    </tr>\n",
       "  </thead>\n",
       "  <tbody>\n",
       "    <tr>\n",
       "      <th>count</th>\n",
       "      <td>18645.000000</td>\n",
       "      <td>1.862500e+04</td>\n",
       "      <td>18625.000000</td>\n",
       "      <td>1.862500e+04</td>\n",
       "      <td>18645.000000</td>\n",
       "      <td>18645.000000</td>\n",
       "      <td>18645.000000</td>\n",
       "    </tr>\n",
       "    <tr>\n",
       "      <th>mean</th>\n",
       "      <td>944.972003</td>\n",
       "      <td>1.753353e+05</td>\n",
       "      <td>8101.347973</td>\n",
       "      <td>1.174082e+07</td>\n",
       "      <td>9203.774739</td>\n",
       "      <td>1044.853955</td>\n",
       "      <td>1.495790</td>\n",
       "    </tr>\n",
       "    <tr>\n",
       "      <th>std</th>\n",
       "      <td>542.803157</td>\n",
       "      <td>8.047016e+05</td>\n",
       "      <td>38183.982425</td>\n",
       "      <td>1.088871e+08</td>\n",
       "      <td>5321.800497</td>\n",
       "      <td>10607.683576</td>\n",
       "      <td>0.708733</td>\n",
       "    </tr>\n",
       "    <tr>\n",
       "      <th>min</th>\n",
       "      <td>0.000000</td>\n",
       "      <td>-1.000000e+00</td>\n",
       "      <td>-1.000000</td>\n",
       "      <td>2.500000e+01</td>\n",
       "      <td>0.000000</td>\n",
       "      <td>0.000000</td>\n",
       "      <td>0.000000</td>\n",
       "    </tr>\n",
       "    <tr>\n",
       "      <th>25%</th>\n",
       "      <td>479.000000</td>\n",
       "      <td>2.786000e+03</td>\n",
       "      <td>216.000000</td>\n",
       "      <td>9.284100e+04</td>\n",
       "      <td>4583.000000</td>\n",
       "      <td>4.000000</td>\n",
       "      <td>1.000000</td>\n",
       "    </tr>\n",
       "    <tr>\n",
       "      <th>50%</th>\n",
       "      <td>948.000000</td>\n",
       "      <td>1.542500e+04</td>\n",
       "      <td>864.000000</td>\n",
       "      <td>6.173500e+05</td>\n",
       "      <td>9204.000000</td>\n",
       "      <td>29.000000</td>\n",
       "      <td>2.000000</td>\n",
       "    </tr>\n",
       "    <tr>\n",
       "      <th>75%</th>\n",
       "      <td>1416.000000</td>\n",
       "      <td>6.210300e+04</td>\n",
       "      <td>3501.000000</td>\n",
       "      <td>2.861258e+06</td>\n",
       "      <td>13817.000000</td>\n",
       "      <td>190.000000</td>\n",
       "      <td>2.000000</td>\n",
       "    </tr>\n",
       "    <tr>\n",
       "      <th>max</th>\n",
       "      <td>1880.000000</td>\n",
       "      <td>1.644556e+07</td>\n",
       "      <td>732818.000000</td>\n",
       "      <td>4.034122e+09</td>\n",
       "      <td>18408.000000</td>\n",
       "      <td>891372.000000</td>\n",
       "      <td>2.000000</td>\n",
       "    </tr>\n",
       "  </tbody>\n",
       "</table>\n",
       "</div>"
      ],
      "text/plain": [
       "       Unnamed: 0_x       Likes_x       Comments         Views  Unnamed: 0_y  \\\n",
       "count  18645.000000  1.862500e+04   18625.000000  1.862500e+04  18645.000000   \n",
       "mean     944.972003  1.753353e+05    8101.347973  1.174082e+07   9203.774739   \n",
       "std      542.803157  8.047016e+05   38183.982425  1.088871e+08   5321.800497   \n",
       "min        0.000000 -1.000000e+00      -1.000000  2.500000e+01      0.000000   \n",
       "25%      479.000000  2.786000e+03     216.000000  9.284100e+04   4583.000000   \n",
       "50%      948.000000  1.542500e+04     864.000000  6.173500e+05   9204.000000   \n",
       "75%     1416.000000  6.210300e+04    3501.000000  2.861258e+06  13817.000000   \n",
       "max     1880.000000  1.644556e+07  732818.000000  4.034122e+09  18408.000000   \n",
       "\n",
       "             Likes_y     Sentiment  \n",
       "count   18645.000000  18645.000000  \n",
       "mean     1044.853955      1.495790  \n",
       "std     10607.683576      0.708733  \n",
       "min         0.000000      0.000000  \n",
       "25%         4.000000      1.000000  \n",
       "50%        29.000000      2.000000  \n",
       "75%       190.000000      2.000000  \n",
       "max    891372.000000      2.000000  "
      ]
     },
     "execution_count": 16,
     "metadata": {},
     "output_type": "execute_result"
    }
   ],
   "source": [
    "merged_data.describe()"
   ]
  },
  {
   "cell_type": "markdown",
   "id": "2c031ccd",
   "metadata": {},
   "source": [
    "### 3.4. check for duplicate values"
   ]
  },
  {
   "cell_type": "code",
   "execution_count": 17,
   "id": "b3d4c5b4",
   "metadata": {},
   "outputs": [
    {
     "data": {
      "text/plain": [
       "0"
      ]
     },
     "execution_count": 17,
     "metadata": {},
     "output_type": "execute_result"
    }
   ],
   "source": [
    "merged_data.duplicated().sum()"
   ]
  },
  {
   "cell_type": "markdown",
   "id": "3d05d2a6",
   "metadata": {},
   "source": [
    "### 3.5. check for null values"
   ]
  },
  {
   "cell_type": "code",
   "execution_count": 18,
   "id": "73d3e883",
   "metadata": {},
   "outputs": [
    {
     "data": {
      "text/plain": [
       "Unnamed: 0_x     0\n",
       "Title            0\n",
       "Video ID         0\n",
       "Published At     0\n",
       "Keyword          0\n",
       "Likes_x         20\n",
       "Comments        20\n",
       "Views           20\n",
       "Unnamed: 0_y     0\n",
       "Comment          1\n",
       "Likes_y          0\n",
       "Sentiment        0\n",
       "dtype: int64"
      ]
     },
     "execution_count": 18,
     "metadata": {},
     "output_type": "execute_result"
    }
   ],
   "source": [
    "merged_data.isnull().sum()"
   ]
  },
  {
   "cell_type": "markdown",
   "id": "fe1c65a4",
   "metadata": {},
   "source": [
    "there area null values present which we will hanlde during data cleaning phase phase."
   ]
  },
  {
   "cell_type": "markdown",
   "id": "38922d16",
   "metadata": {},
   "source": [
    "## 4. Data Cleaning"
   ]
  },
  {
   "cell_type": "markdown",
   "id": "f61eff54",
   "metadata": {},
   "source": [
    "### 4.1 Remove unnecessary features"
   ]
  },
  {
   "cell_type": "code",
   "execution_count": 19,
   "id": "41658e6a",
   "metadata": {},
   "outputs": [
    {
     "data": {
      "text/html": [
       "<div>\n",
       "<style scoped>\n",
       "    .dataframe tbody tr th:only-of-type {\n",
       "        vertical-align: middle;\n",
       "    }\n",
       "\n",
       "    .dataframe tbody tr th {\n",
       "        vertical-align: top;\n",
       "    }\n",
       "\n",
       "    .dataframe thead th {\n",
       "        text-align: right;\n",
       "    }\n",
       "</style>\n",
       "<table border=\"1\" class=\"dataframe\">\n",
       "  <thead>\n",
       "    <tr style=\"text-align: right;\">\n",
       "      <th></th>\n",
       "      <th>Title</th>\n",
       "      <th>Video ID</th>\n",
       "      <th>Keyword</th>\n",
       "      <th>Likes_x</th>\n",
       "      <th>Comments</th>\n",
       "      <th>Views</th>\n",
       "      <th>Comment</th>\n",
       "      <th>Likes_y</th>\n",
       "      <th>Sentiment</th>\n",
       "    </tr>\n",
       "  </thead>\n",
       "  <tbody>\n",
       "    <tr>\n",
       "      <th>0</th>\n",
       "      <td>Apple Pay Is Killing the Physical Wallet After...</td>\n",
       "      <td>wAZZ-UWGVHI</td>\n",
       "      <td>tech</td>\n",
       "      <td>3407.0</td>\n",
       "      <td>672.0</td>\n",
       "      <td>135612.0</td>\n",
       "      <td>Let's not forget that Apple Pay in 2014 requir...</td>\n",
       "      <td>95.0</td>\n",
       "      <td>1.0</td>\n",
       "    </tr>\n",
       "    <tr>\n",
       "      <th>1</th>\n",
       "      <td>Apple Pay Is Killing the Physical Wallet After...</td>\n",
       "      <td>wAZZ-UWGVHI</td>\n",
       "      <td>tech</td>\n",
       "      <td>3407.0</td>\n",
       "      <td>672.0</td>\n",
       "      <td>135612.0</td>\n",
       "      <td>Here in NZ 50% of retailers don’t even have co...</td>\n",
       "      <td>19.0</td>\n",
       "      <td>0.0</td>\n",
       "    </tr>\n",
       "    <tr>\n",
       "      <th>2</th>\n",
       "      <td>Apple Pay Is Killing the Physical Wallet After...</td>\n",
       "      <td>wAZZ-UWGVHI</td>\n",
       "      <td>tech</td>\n",
       "      <td>3407.0</td>\n",
       "      <td>672.0</td>\n",
       "      <td>135612.0</td>\n",
       "      <td>I will forever acknowledge this channel with t...</td>\n",
       "      <td>161.0</td>\n",
       "      <td>2.0</td>\n",
       "    </tr>\n",
       "    <tr>\n",
       "      <th>3</th>\n",
       "      <td>Apple Pay Is Killing the Physical Wallet After...</td>\n",
       "      <td>wAZZ-UWGVHI</td>\n",
       "      <td>tech</td>\n",
       "      <td>3407.0</td>\n",
       "      <td>672.0</td>\n",
       "      <td>135612.0</td>\n",
       "      <td>Whenever I go to a place that doesn’t take App...</td>\n",
       "      <td>8.0</td>\n",
       "      <td>0.0</td>\n",
       "    </tr>\n",
       "    <tr>\n",
       "      <th>4</th>\n",
       "      <td>Apple Pay Is Killing the Physical Wallet After...</td>\n",
       "      <td>wAZZ-UWGVHI</td>\n",
       "      <td>tech</td>\n",
       "      <td>3407.0</td>\n",
       "      <td>672.0</td>\n",
       "      <td>135612.0</td>\n",
       "      <td>Apple Pay is so convenient, secure, and easy t...</td>\n",
       "      <td>34.0</td>\n",
       "      <td>2.0</td>\n",
       "    </tr>\n",
       "  </tbody>\n",
       "</table>\n",
       "</div>"
      ],
      "text/plain": [
       "                                               Title     Video ID Keyword  \\\n",
       "0  Apple Pay Is Killing the Physical Wallet After...  wAZZ-UWGVHI    tech   \n",
       "1  Apple Pay Is Killing the Physical Wallet After...  wAZZ-UWGVHI    tech   \n",
       "2  Apple Pay Is Killing the Physical Wallet After...  wAZZ-UWGVHI    tech   \n",
       "3  Apple Pay Is Killing the Physical Wallet After...  wAZZ-UWGVHI    tech   \n",
       "4  Apple Pay Is Killing the Physical Wallet After...  wAZZ-UWGVHI    tech   \n",
       "\n",
       "   Likes_x  Comments     Views  \\\n",
       "0   3407.0     672.0  135612.0   \n",
       "1   3407.0     672.0  135612.0   \n",
       "2   3407.0     672.0  135612.0   \n",
       "3   3407.0     672.0  135612.0   \n",
       "4   3407.0     672.0  135612.0   \n",
       "\n",
       "                                             Comment  Likes_y  Sentiment  \n",
       "0  Let's not forget that Apple Pay in 2014 requir...     95.0        1.0  \n",
       "1  Here in NZ 50% of retailers don’t even have co...     19.0        0.0  \n",
       "2  I will forever acknowledge this channel with t...    161.0        2.0  \n",
       "3  Whenever I go to a place that doesn’t take App...      8.0        0.0  \n",
       "4  Apple Pay is so convenient, secure, and easy t...     34.0        2.0  "
      ]
     },
     "execution_count": 19,
     "metadata": {},
     "output_type": "execute_result"
    }
   ],
   "source": [
    "# Define the list of unnecessary columns to be dropped\n",
    "unnecessary_columns = ['Unnamed: 0_x', 'Unnamed: 0_y',  'Published At']\n",
    "\n",
    "# Drop the unnecessary columns from the merged dataset\n",
    "merged_data = merged_data.drop(columns=unnecessary_columns)\n",
    "\n",
    "# Display the filtered dataset\n",
    "merged_data.head()"
   ]
  },
  {
   "cell_type": "markdown",
   "id": "77f04ba7",
   "metadata": {},
   "source": [
    "### 4.2 Rename the columns"
   ]
  },
  {
   "cell_type": "code",
   "execution_count": 20,
   "id": "8e074f6b",
   "metadata": {},
   "outputs": [
    {
     "data": {
      "text/html": [
       "<div>\n",
       "<style scoped>\n",
       "    .dataframe tbody tr th:only-of-type {\n",
       "        vertical-align: middle;\n",
       "    }\n",
       "\n",
       "    .dataframe tbody tr th {\n",
       "        vertical-align: top;\n",
       "    }\n",
       "\n",
       "    .dataframe thead th {\n",
       "        text-align: right;\n",
       "    }\n",
       "</style>\n",
       "<table border=\"1\" class=\"dataframe\">\n",
       "  <thead>\n",
       "    <tr style=\"text-align: right;\">\n",
       "      <th></th>\n",
       "      <th>Title</th>\n",
       "      <th>Video ID</th>\n",
       "      <th>Keyword</th>\n",
       "      <th>Video Likes</th>\n",
       "      <th>No of Comments</th>\n",
       "      <th>Views</th>\n",
       "      <th>Comment</th>\n",
       "      <th>Comment Likes</th>\n",
       "      <th>Sentiment</th>\n",
       "    </tr>\n",
       "  </thead>\n",
       "  <tbody>\n",
       "    <tr>\n",
       "      <th>0</th>\n",
       "      <td>Apple Pay Is Killing the Physical Wallet After...</td>\n",
       "      <td>wAZZ-UWGVHI</td>\n",
       "      <td>tech</td>\n",
       "      <td>3407.0</td>\n",
       "      <td>672.0</td>\n",
       "      <td>135612.0</td>\n",
       "      <td>Let's not forget that Apple Pay in 2014 requir...</td>\n",
       "      <td>95.0</td>\n",
       "      <td>1.0</td>\n",
       "    </tr>\n",
       "    <tr>\n",
       "      <th>1</th>\n",
       "      <td>Apple Pay Is Killing the Physical Wallet After...</td>\n",
       "      <td>wAZZ-UWGVHI</td>\n",
       "      <td>tech</td>\n",
       "      <td>3407.0</td>\n",
       "      <td>672.0</td>\n",
       "      <td>135612.0</td>\n",
       "      <td>Here in NZ 50% of retailers don’t even have co...</td>\n",
       "      <td>19.0</td>\n",
       "      <td>0.0</td>\n",
       "    </tr>\n",
       "    <tr>\n",
       "      <th>2</th>\n",
       "      <td>Apple Pay Is Killing the Physical Wallet After...</td>\n",
       "      <td>wAZZ-UWGVHI</td>\n",
       "      <td>tech</td>\n",
       "      <td>3407.0</td>\n",
       "      <td>672.0</td>\n",
       "      <td>135612.0</td>\n",
       "      <td>I will forever acknowledge this channel with t...</td>\n",
       "      <td>161.0</td>\n",
       "      <td>2.0</td>\n",
       "    </tr>\n",
       "    <tr>\n",
       "      <th>3</th>\n",
       "      <td>Apple Pay Is Killing the Physical Wallet After...</td>\n",
       "      <td>wAZZ-UWGVHI</td>\n",
       "      <td>tech</td>\n",
       "      <td>3407.0</td>\n",
       "      <td>672.0</td>\n",
       "      <td>135612.0</td>\n",
       "      <td>Whenever I go to a place that doesn’t take App...</td>\n",
       "      <td>8.0</td>\n",
       "      <td>0.0</td>\n",
       "    </tr>\n",
       "    <tr>\n",
       "      <th>4</th>\n",
       "      <td>Apple Pay Is Killing the Physical Wallet After...</td>\n",
       "      <td>wAZZ-UWGVHI</td>\n",
       "      <td>tech</td>\n",
       "      <td>3407.0</td>\n",
       "      <td>672.0</td>\n",
       "      <td>135612.0</td>\n",
       "      <td>Apple Pay is so convenient, secure, and easy t...</td>\n",
       "      <td>34.0</td>\n",
       "      <td>2.0</td>\n",
       "    </tr>\n",
       "  </tbody>\n",
       "</table>\n",
       "</div>"
      ],
      "text/plain": [
       "                                               Title     Video ID Keyword  \\\n",
       "0  Apple Pay Is Killing the Physical Wallet After...  wAZZ-UWGVHI    tech   \n",
       "1  Apple Pay Is Killing the Physical Wallet After...  wAZZ-UWGVHI    tech   \n",
       "2  Apple Pay Is Killing the Physical Wallet After...  wAZZ-UWGVHI    tech   \n",
       "3  Apple Pay Is Killing the Physical Wallet After...  wAZZ-UWGVHI    tech   \n",
       "4  Apple Pay Is Killing the Physical Wallet After...  wAZZ-UWGVHI    tech   \n",
       "\n",
       "   Video Likes  No of Comments     Views  \\\n",
       "0       3407.0           672.0  135612.0   \n",
       "1       3407.0           672.0  135612.0   \n",
       "2       3407.0           672.0  135612.0   \n",
       "3       3407.0           672.0  135612.0   \n",
       "4       3407.0           672.0  135612.0   \n",
       "\n",
       "                                             Comment  Comment Likes  Sentiment  \n",
       "0  Let's not forget that Apple Pay in 2014 requir...           95.0        1.0  \n",
       "1  Here in NZ 50% of retailers don’t even have co...           19.0        0.0  \n",
       "2  I will forever acknowledge this channel with t...          161.0        2.0  \n",
       "3  Whenever I go to a place that doesn’t take App...            8.0        0.0  \n",
       "4  Apple Pay is so convenient, secure, and easy t...           34.0        2.0  "
      ]
     },
     "execution_count": 20,
     "metadata": {},
     "output_type": "execute_result"
    }
   ],
   "source": [
    "# Rename the columns in the merged dataset\n",
    "merged_data = merged_data.rename(columns={'Likes_x': 'Video Likes', 'Likes_y': 'Comment Likes', 'Comments': 'No of Comments'})\n",
    "\n",
    "# Display the updated dataset\n",
    "merged_data.head()"
   ]
  },
  {
   "cell_type": "markdown",
   "id": "afa396b5",
   "metadata": {},
   "source": [
    "### 4.3 handle Null Values "
   ]
  },
  {
   "cell_type": "code",
   "execution_count": 21,
   "id": "00343d5c",
   "metadata": {},
   "outputs": [
    {
     "data": {
      "text/plain": [
       "Title              0\n",
       "Video ID           0\n",
       "Keyword            0\n",
       "Video Likes       20\n",
       "No of Comments    20\n",
       "Views             20\n",
       "Comment            1\n",
       "Comment Likes      0\n",
       "Sentiment          0\n",
       "dtype: int64"
      ]
     },
     "execution_count": 21,
     "metadata": {},
     "output_type": "execute_result"
    }
   ],
   "source": [
    "#check for  null values\n",
    "merged_data.isnull().sum()"
   ]
  },
  {
   "cell_type": "code",
   "execution_count": 22,
   "id": "551f1827",
   "metadata": {},
   "outputs": [
    {
     "data": {
      "text/plain": [
       "Title             0\n",
       "Video ID          0\n",
       "Keyword           0\n",
       "Video Likes       0\n",
       "No of Comments    0\n",
       "Views             0\n",
       "Comment           0\n",
       "Comment Likes     0\n",
       "Sentiment         0\n",
       "dtype: int64"
      ]
     },
     "execution_count": 22,
     "metadata": {},
     "output_type": "execute_result"
    }
   ],
   "source": [
    "#remove null values\n",
    "merged_data= merged_data.dropna()\n",
    "\n",
    "#check for null values after dropping them\n",
    "merged_data.isnull().sum()"
   ]
  },
  {
   "cell_type": "markdown",
   "id": "ffd40f30",
   "metadata": {},
   "source": [
    "### 4.4 handle regular Expressions"
   ]
  },
  {
   "cell_type": "code",
   "execution_count": 23,
   "id": "cc7ac58c",
   "metadata": {},
   "outputs": [
    {
     "data": {
      "text/plain": [
       "0        Apple Pay Is Killing the Physical Wallet After...\n",
       "1        Apple Pay Is Killing the Physical Wallet After...\n",
       "2        Apple Pay Is Killing the Physical Wallet After...\n",
       "3        Apple Pay Is Killing the Physical Wallet After...\n",
       "4        Apple Pay Is Killing the Physical Wallet After...\n",
       "                               ...                        \n",
       "18620    Andrew Ng: Deep Learning, Education, and Real-...\n",
       "18621    Andrew Ng: Deep Learning, Education, and Real-...\n",
       "18622    Andrew Ng: Deep Learning, Education, and Real-...\n",
       "18623    Andrew Ng: Deep Learning, Education, and Real-...\n",
       "18624    Andrew Ng: Deep Learning, Education, and Real-...\n",
       "Name: Title, Length: 18624, dtype: object"
      ]
     },
     "execution_count": 23,
     "metadata": {},
     "output_type": "execute_result"
    }
   ],
   "source": [
    "#handle regular expressions in Title column for further analysis.\n",
    "\n",
    "#view Title column\n",
    "merged_data[\"Title\"]"
   ]
  },
  {
   "cell_type": "code",
   "execution_count": 25,
   "id": "2c664733",
   "metadata": {},
   "outputs": [],
   "source": [
    "def cleaned_title(title):\n",
    "    # Remove numbers, symbols, and any characters other than A-Z and a-z alphabets\n",
    "    cleaned_title = re.sub(r'[^A-Za-z]', ' ', title)\n",
    "    \n",
    "    return cleaned_title\n",
    "\n",
    "# Apply the preprocessing function to the 'Comment' column\n",
    "merged_data['Title'] = merged_data['Title'].apply(cleaned_title)"
   ]
  },
  {
   "cell_type": "code",
   "execution_count": 26,
   "id": "3485e876",
   "metadata": {},
   "outputs": [
    {
     "data": {
      "text/plain": [
       "0        Apple Pay Is Killing the Physical Wallet After...\n",
       "1        Apple Pay Is Killing the Physical Wallet After...\n",
       "2        Apple Pay Is Killing the Physical Wallet After...\n",
       "3        Apple Pay Is Killing the Physical Wallet After...\n",
       "4        Apple Pay Is Killing the Physical Wallet After...\n",
       "                               ...                        \n",
       "18620    Andrew Ng  Deep Learning  Education  and Real ...\n",
       "18621    Andrew Ng  Deep Learning  Education  and Real ...\n",
       "18622    Andrew Ng  Deep Learning  Education  and Real ...\n",
       "18623    Andrew Ng  Deep Learning  Education  and Real ...\n",
       "18624    Andrew Ng  Deep Learning  Education  and Real ...\n",
       "Name: Title, Length: 18624, dtype: object"
      ]
     },
     "execution_count": 26,
     "metadata": {},
     "output_type": "execute_result"
    }
   ],
   "source": [
    "#print the cleaned Title column\n",
    "merged_data[\"Title\"]"
   ]
  },
  {
   "cell_type": "markdown",
   "id": "bddcf05a",
   "metadata": {},
   "source": [
    "## 5. Exploratory Data Analysis"
   ]
  },
  {
   "cell_type": "markdown",
   "id": "edce0cf0",
   "metadata": {},
   "source": [
    "### 5.1. Data Types "
   ]
  },
  {
   "cell_type": "code",
   "execution_count": 28,
   "id": "861272b8",
   "metadata": {},
   "outputs": [
    {
     "data": {
      "text/plain": [
       "Title              object\n",
       "Video ID           object\n",
       "Keyword            object\n",
       "Video Likes       float64\n",
       "No of Comments    float64\n",
       "Views             float64\n",
       "Comment            object\n",
       "Comment Likes     float64\n",
       "Sentiment         float64\n",
       "dtype: object"
      ]
     },
     "execution_count": 28,
     "metadata": {},
     "output_type": "execute_result"
    }
   ],
   "source": [
    "# check for data types of each feature\n",
    "merged_data.dtypes"
   ]
  },
  {
   "cell_type": "markdown",
   "id": "3ea84a0e",
   "metadata": {},
   "source": [
    "### 5.2 Unique values in each feature"
   ]
  },
  {
   "cell_type": "code",
   "execution_count": 29,
   "id": "b6c9b593",
   "metadata": {},
   "outputs": [
    {
     "data": {
      "text/plain": [
       "Title              1840\n",
       "Video ID           1867\n",
       "Keyword              41\n",
       "Video Likes        1827\n",
       "No of Comments     1372\n",
       "Views              1868\n",
       "Comment           17974\n",
       "Comment Likes      2539\n",
       "Sentiment             3\n",
       "dtype: int64"
      ]
     },
     "execution_count": 29,
     "metadata": {},
     "output_type": "execute_result"
    }
   ],
   "source": [
    "merged_data.nunique()"
   ]
  },
  {
   "cell_type": "markdown",
   "id": "942a3bb3",
   "metadata": {},
   "source": [
    "### 5.3. value counts in each feature"
   ]
  },
  {
   "cell_type": "code",
   "execution_count": 30,
   "id": "e0317277",
   "metadata": {},
   "outputs": [
    {
     "data": {
      "text/plain": [
       "Champions Chess Tour  FTX Crypto Cup   Day     Commentary by David  Jovanka  Kaja  amp  Simon     60\n",
       "Python Machine Learning Tutorial  Data Science                                                    40\n",
       "Vikram Vedha Movie Teaser Review   KRK    krkreview  bollywood  latestreviews  review  hrithik    40\n",
       "How to Solve a Rubik     s Cube   WIRED                                                           40\n",
       "Computer Scientist Explains Machine Learning in   Levels of Difficulty   WIRED                    40\n",
       "                                                                                                  ..\n",
       "Grey Literature                                                                                    1\n",
       "How to Create Weekly Planner For Business   Canva For Beginners                                    1\n",
       "Seven Steps to Financial Wellness   Arpit Arora   TEDxChowringhee                                  1\n",
       "Tech firms can     t hide behind advertising rules with financial products  says CFPB chief        1\n",
       "Ed Sheeran  Martin Garrix  Kygo  Dua Lipa  Avicii  The Chainsmokers Style   Feeling Me             1\n",
       "Name: Title, Length: 1840, dtype: int64"
      ]
     },
     "execution_count": 30,
     "metadata": {},
     "output_type": "execute_result"
    }
   ],
   "source": [
    "#number of unique values in Title column\n",
    "merged_data[\"Title\"].value_counts()"
   ]
  },
  {
   "cell_type": "code",
   "execution_count": 31,
   "id": "7d043c96",
   "metadata": {},
   "outputs": [
    {
     "data": {
      "text/plain": [
       "ZgeorpjGJC0    40\n",
       "7eh4d6sabA0    40\n",
       "96mrgd8-3yE    40\n",
       "R-R0KrXvWbc    40\n",
       "RFMi3v0TXP8    40\n",
       "               ..\n",
       "7RvBj9r5Dhg     1\n",
       "voU9-39bicg     1\n",
       "V_vguZj_7FE     1\n",
       "4PpkuBUqmkk     1\n",
       "oXGVGXAx9Ng     1\n",
       "Name: Video ID, Length: 1867, dtype: int64"
      ]
     },
     "execution_count": 31,
     "metadata": {},
     "output_type": "execute_result"
    }
   ],
   "source": [
    "#number of unique values in Video ID column\n",
    "merged_data[\"Video ID\"].value_counts()"
   ]
  },
  {
   "cell_type": "code",
   "execution_count": 32,
   "id": "b3f4eecc",
   "metadata": {},
   "outputs": [
    {
     "data": {
      "text/plain": [
       "1564007.0     40\n",
       "51885.0       40\n",
       "1204024.0     40\n",
       "14537.0       40\n",
       "29905105.0    40\n",
       "              ..\n",
       "867.0          1\n",
       "4114.0         1\n",
       "52046148.0     1\n",
       "62189.0        1\n",
       "31343.0        1\n",
       "Name: Views, Length: 1868, dtype: int64"
      ]
     },
     "execution_count": 32,
     "metadata": {},
     "output_type": "execute_result"
    }
   ],
   "source": [
    "#number of unique values in Views column\n",
    "merged_data[\"Views\"].value_counts()"
   ]
  },
  {
   "cell_type": "code",
   "execution_count": 33,
   "id": "9e9b8f2e",
   "metadata": {},
   "outputs": [
    {
     "data": {
      "text/plain": [
       "-1.0         80\n",
       " 406.0       40\n",
       " 63825.0     40\n",
       " 563.0       40\n",
       " 329.0       40\n",
       "             ..\n",
       " 280080.0     1\n",
       " 37.0         1\n",
       " 2184.0       1\n",
       " 15.0         1\n",
       " 38.0         1\n",
       "Name: Video Likes, Length: 1827, dtype: int64"
      ]
     },
     "execution_count": 33,
     "metadata": {},
     "output_type": "execute_result"
    }
   ],
   "source": [
    "#number of unique values in Video Likes column\n",
    "merged_data[\"Video Likes\"].value_counts()"
   ]
  },
  {
   "cell_type": "code",
   "execution_count": 34,
   "id": "e994af1c",
   "metadata": {},
   "outputs": [
    {
     "data": {
      "text/plain": [
       "0.0       1500\n",
       "1.0       1055\n",
       "2.0        857\n",
       "3.0        644\n",
       "4.0        612\n",
       "          ... \n",
       "731.0        1\n",
       "2829.0       1\n",
       "1086.0       1\n",
       "1174.0       1\n",
       "2111.0       1\n",
       "Name: Comment Likes, Length: 2539, dtype: int64"
      ]
     },
     "execution_count": 34,
     "metadata": {},
     "output_type": "execute_result"
    }
   ],
   "source": [
    "#number of unique values in Comment Likes column\n",
    "merged_data[\"Comment Likes\"].value_counts()"
   ]
  },
  {
   "cell_type": "code",
   "execution_count": 35,
   "id": "2e2915d0",
   "metadata": {},
   "outputs": [
    {
     "data": {
      "text/plain": [
       "29.0      90\n",
       "16.0      77\n",
       "21.0      75\n",
       "173.0     70\n",
       "32.0      65\n",
       "          ..\n",
       "280.0      8\n",
       "6907.0     6\n",
       "1004.0     3\n",
       "67.0       2\n",
       "7414.0     1\n",
       "Name: No of Comments, Length: 1372, dtype: int64"
      ]
     },
     "execution_count": 35,
     "metadata": {},
     "output_type": "execute_result"
    }
   ],
   "source": [
    "#number of unique values in No of Comments column\n",
    "merged_data[\"No of Comments\"].value_counts()"
   ]
  },
  {
   "cell_type": "markdown",
   "id": "149c88aa",
   "metadata": {},
   "source": [
    "### 5.4. Visualizations"
   ]
  },
  {
   "cell_type": "markdown",
   "id": "bc04a5cf",
   "metadata": {},
   "source": [
    "#### 5.4.1 Analyze the Distribution of Likes, Comments, and Views:"
   ]
  },
  {
   "cell_type": "code",
   "execution_count": 36,
   "id": "4422e7f8",
   "metadata": {},
   "outputs": [
    {
     "data": {
      "image/png": "[encoded data removed]",
      "text/plain": [
       "<Figure size 432x288 with 1 Axes>"
      ]
     },
     "metadata": {
      "needs_background": "light"
     },
     "output_type": "display_data"
    }
   ],
   "source": [
    "# Plot the distribution of Likes on videos\n",
    "plt.hist(merged_data['Video Likes'], bins=20)\n",
    "plt.xlabel('Number of Likes')\n",
    "plt.ylabel('Frequency')\n",
    "plt.title('Distribution of Likes')\n",
    "plt.show()"
   ]
  },
  {
   "cell_type": "code",
   "execution_count": 37,
   "id": "f2fcd88e",
   "metadata": {},
   "outputs": [
    {
     "data": {
      "image/png": "[encoded data removed]",
      "text/plain": [
       "<Figure size 432x288 with 1 Axes>"
      ]
     },
     "metadata": {
      "needs_background": "light"
     },
     "output_type": "display_data"
    }
   ],
   "source": [
    "# Plot the distribution of Comments\n",
    "plt.hist(merged_data['No of Comments'], bins=20)\n",
    "plt.xlabel('Number of Comments')\n",
    "plt.ylabel('Frequency')\n",
    "plt.title('Distribution of Comments')\n",
    "plt.show()"
   ]
  },
  {
   "cell_type": "code",
   "execution_count": 38,
   "id": "17681fea",
   "metadata": {},
   "outputs": [
    {
     "data": {
      "image/png": "[encoded data removed]",
      "text/plain": [
       "<Figure size 432x288 with 1 Axes>"
      ]
     },
     "metadata": {
      "needs_background": "light"
     },
     "output_type": "display_data"
    }
   ],
   "source": [
    "# Plot the distribution of Views\n",
    "plt.hist(merged_data['Views'])\n",
    "plt.xlabel('Number of Views')\n",
    "plt.ylabel('Frequency')\n",
    "plt.title('Distribution of Views')\n",
    "plt.show()"
   ]
  },
  {
   "cell_type": "markdown",
   "id": "a5456401",
   "metadata": {},
   "source": [
    "#### 5.4.2 Analyze Comment Sentiment"
   ]
  },
  {
   "cell_type": "code",
   "execution_count": 39,
   "id": "24efef38",
   "metadata": {},
   "outputs": [
    {
     "data": {
      "image/png": "[encoded data removed]",
      "text/plain": [
       "<Figure size 432x288 with 1 Axes>"
      ]
     },
     "metadata": {
      "needs_background": "light"
     },
     "output_type": "display_data"
    }
   ],
   "source": [
    "# Count the number of comments for each sentiment category\n",
    "sentiment_counts = merged_data['Sentiment'].value_counts()\n",
    "\n",
    "# Create a bar chart of sentiment distribution\n",
    "plt.bar(sentiment_counts.index, sentiment_counts.values)\n",
    "plt.xlabel('Sentiment')\n",
    "plt.ylabel('Number of Comments')\n",
    "plt.title('Distribution of Comment Sentiment')\n",
    "plt.xticks(sentiment_counts.index, ['Negative', 'Neutral', 'Positive'])\n",
    "plt.show()\n"
   ]
  },
  {
   "cell_type": "markdown",
   "id": "20fa9af4",
   "metadata": {},
   "source": [
    "#### 5.4.3 Explore the Relationship between Likes and Comment Likes"
   ]
  },
  {
   "cell_type": "code",
   "execution_count": 40,
   "id": "9464c364",
   "metadata": {},
   "outputs": [
    {
     "data": {
      "image/png": "[encoded data removed]",
      "text/plain": [
       "<Figure size 432x288 with 1 Axes>"
      ]
     },
     "metadata": {
      "needs_background": "light"
     },
     "output_type": "display_data"
    }
   ],
   "source": [
    "# Create a scatter plot of Likes on videos  vs Likes on comments\n",
    "plt.scatter(merged_data['Video Likes'], merged_data['Comment Likes'])\n",
    "plt.xlabel('Video Likes')\n",
    "plt.ylabel('Comment Likes')\n",
    "plt.title('Relationship between Video Likes and Comment Likes')\n",
    "plt.show()\n"
   ]
  },
  {
   "cell_type": "markdown",
   "id": "07087e98",
   "metadata": {},
   "source": [
    "#### 5.4.4 Explore the Relationship between views and number of comments"
   ]
  },
  {
   "cell_type": "code",
   "execution_count": 41,
   "id": "a764e765",
   "metadata": {},
   "outputs": [
    {
     "data": {
      "image/png": "[encoded data removed]",
      "text/plain": [
       "<Figure size 576x432 with 1 Axes>"
      ]
     },
     "metadata": {
      "needs_background": "light"
     },
     "output_type": "display_data"
    }
   ],
   "source": [
    "# Create a scatter plot of 'No of Comments' vs 'Views'\n",
    "plt.figure(figsize=(8, 6))\n",
    "sns.scatterplot(data=merged_data, x='No of Comments', y='Views')\n",
    "plt.xlabel('Number of Comments')\n",
    "plt.ylabel('Number of Views')\n",
    "plt.title('Relationship between Comments and Views')\n",
    "plt.show()\n"
   ]
  },
  {
   "cell_type": "markdown",
   "id": "f5297fdd",
   "metadata": {},
   "source": [
    "#### 5.4.5 unique  keywords"
   ]
  },
  {
   "cell_type": "code",
   "execution_count": 42,
   "id": "295acbc8",
   "metadata": {},
   "outputs": [
    {
     "data": {
      "image/png": "[encoded data removed]",
      "text/plain": [
       "<Figure size 1440x432 with 1 Axes>"
      ]
     },
     "metadata": {
      "needs_background": "light"
     },
     "output_type": "display_data"
    }
   ],
   "source": [
    "# Plot the value counts of 'Keywords'\n",
    "plt.figure(figsize=(20, 6))\n",
    "sns.countplot(data=merged_data, x='Keyword')\n",
    "plt.xticks(rotation=45)\n",
    "plt.xlabel('Keyword')\n",
    "plt.ylabel('Count')\n",
    "plt.title('Distribution of Keywords')\n",
    "plt.show()"
   ]
  },
  {
   "cell_type": "markdown",
   "id": "49df0495",
   "metadata": {},
   "source": [
    "## 5.5 Insights"
   ]
  },
  {
   "cell_type": "markdown",
   "id": "913ab759",
   "metadata": {},
   "source": [
    "### 5.5.1 Title which has highest and lowest number of comments?"
   ]
  },
  {
   "cell_type": "code",
   "execution_count": 43,
   "id": "050b6bc9",
   "metadata": {},
   "outputs": [
    {
     "name": "stdout",
     "output_type": "stream",
     "text": [
      "Title with the highest number of comments: El Chombo   Dame Tu Cosita feat  Cutty Ranks  Official Video   Ultra Music \n",
      "\n",
      "\n",
      "Title with the lowest number of comments: BEST Auditions Of Songs From Movies   Amazing Auditions\n"
     ]
    }
   ],
   "source": [
    "# Group the data by 'Title' and calculate the sum of 'No of Comments' \n",
    "title_comment_counts = merged_data.groupby('Title')['No of Comments'].sum()\n",
    "\n",
    "\n",
    "# Find the title with the highest and lowest comment counts\n",
    "title_highest_comments = title_comment_counts.idxmax()\n",
    "title_lowest_comments = title_comment_counts.idxmin()\n",
    "\n",
    "\n",
    "\n",
    "print(\"Title with the highest number of comments:\", title_highest_comments)\n",
    "print(\"\\n\")\n",
    "print(\"Title with the lowest number of comments:\", title_lowest_comments)\n",
    "\n"
   ]
  },
  {
   "cell_type": "markdown",
   "id": "c330e354",
   "metadata": {},
   "source": [
    "### 5.5.2 Title which has highest and lowest number of views?"
   ]
  },
  {
   "cell_type": "code",
   "execution_count": 44,
   "id": "39c56338",
   "metadata": {},
   "outputs": [
    {
     "name": "stdout",
     "output_type": "stream",
     "text": [
      "Title with the highest number of views: El Chombo   Dame Tu Cosita feat  Cutty Ranks  Official Video   Ultra Music \n",
      "\n",
      "\n",
      "Title with the lowest number of views: Mathematics and Chemistry   MathChemistry com   Masters Degree in Math\n"
     ]
    }
   ],
   "source": [
    "# Group the data by 'Title' and calculate the sum of   'Views'\n",
    "title_view_counts = merged_data.groupby('Title')['Views'].sum()\n",
    "\n",
    "# Find the title with the highest and lowest view counts\n",
    "title_highest_views = title_view_counts.idxmax()\n",
    "title_lowest_views = title_view_counts.idxmin()\n",
    "\n",
    "print(\"Title with the highest number of views:\", title_highest_views)\n",
    "print(\"\\n\")\n",
    "print(\"Title with the lowest number of views:\", title_lowest_views)"
   ]
  },
  {
   "cell_type": "markdown",
   "id": "84c1557d",
   "metadata": {},
   "source": [
    "### 5.5.3 Title with most positive, negative and neutral sentiments?"
   ]
  },
  {
   "cell_type": "code",
   "execution_count": 45,
   "id": "b4e5c7a7",
   "metadata": {},
   "outputs": [
    {
     "name": "stdout",
     "output_type": "stream",
     "text": [
      "Title with the most negative sentiment: Nightly News Full Broadcast   Aug    \n",
      "\n",
      "\n",
      "Title with the most positive sentiment: Champions Chess Tour  FTX Crypto Cup   Day     Commentary by David  Jovanka  Kaja  amp  Simon\n",
      "\n",
      "\n",
      "Title with the most neutral sentiment:   D P CHEZ VOUS   Ces PROMOS disparaissent bient t du PS Store  Xbox Store  Nintendo eShop   \n"
     ]
    }
   ],
   "source": [
    "# Group the data by 'Title' and calculate the value counts of 'Sentiment'\n",
    "title_sentiment_counts = merged_data.groupby('Title')['Sentiment'].value_counts()\n",
    "\n",
    "# Find the title with the most negative sentiment\n",
    "title_most_negative_sentiment = title_sentiment_counts.xs(0, level='Sentiment').idxmax()\n",
    "\n",
    "# Find the title with the most positive sentiment\n",
    "title_most_positive_sentiment = title_sentiment_counts.xs(2, level='Sentiment').idxmax()\n",
    "\n",
    "# Find the title with the most neutral sentiment\n",
    "title_most_neutral_sentiment = title_sentiment_counts.xs(1, level='Sentiment').idxmax()\n",
    "\n",
    "print(\"Title with the most negative sentiment:\", title_most_negative_sentiment)\n",
    "print(\"\\n\")\n",
    "print(\"Title with the most positive sentiment:\", title_most_positive_sentiment)\n",
    "print(\"\\n\")\n",
    "print(\"Title with the most neutral sentiment:\", title_most_neutral_sentiment)\n"
   ]
  },
  {
   "cell_type": "markdown",
   "id": "b524326a",
   "metadata": {},
   "source": [
    "### 5.5.4 Title which has highest and lowest number of likes?"
   ]
  },
  {
   "cell_type": "code",
   "execution_count": 46,
   "id": "78beddea",
   "metadata": {},
   "outputs": [
    {
     "name": "stdout",
     "output_type": "stream",
     "text": [
      "Title with the highest number of likes: El Chombo   Dame Tu Cosita feat  Cutty Ranks  Official Video   Ultra Music \n",
      "\n",
      "\n",
      "Title with the lowest number of likes: How To Build A Business That Works   Brian Tracy  GENIUS\n"
     ]
    }
   ],
   "source": [
    "# Find the title with the highest number of likes\n",
    "title_highest_likes = merged_data.loc[merged_data['Video Likes'].idxmax(), 'Title']\n",
    "\n",
    "# Find the title with the lowest number of likes\n",
    "title_lowest_likes = merged_data.loc[merged_data['Video Likes'].idxmin(), 'Title']\n",
    "\n",
    "print(\"Title with the highest number of likes:\", title_highest_likes)\n",
    "print(\"\\n\")\n",
    "print(\"Title with the lowest number of likes:\", title_lowest_likes)\n"
   ]
  },
  {
   "cell_type": "markdown",
   "id": "926f0e06",
   "metadata": {},
   "source": [
    "###  Remove unnecessary columns"
   ]
  },
  {
   "cell_type": "code",
   "execution_count": 47,
   "id": "e304da17",
   "metadata": {},
   "outputs": [
    {
     "data": {
      "text/html": [
       "<div>\n",
       "<style scoped>\n",
       "    .dataframe tbody tr th:only-of-type {\n",
       "        vertical-align: middle;\n",
       "    }\n",
       "\n",
       "    .dataframe tbody tr th {\n",
       "        vertical-align: top;\n",
       "    }\n",
       "\n",
       "    .dataframe thead th {\n",
       "        text-align: right;\n",
       "    }\n",
       "</style>\n",
       "<table border=\"1\" class=\"dataframe\">\n",
       "  <thead>\n",
       "    <tr style=\"text-align: right;\">\n",
       "      <th></th>\n",
       "      <th>Video Likes</th>\n",
       "      <th>No of Comments</th>\n",
       "      <th>Views</th>\n",
       "      <th>Comment</th>\n",
       "      <th>Comment Likes</th>\n",
       "      <th>Sentiment</th>\n",
       "    </tr>\n",
       "  </thead>\n",
       "  <tbody>\n",
       "    <tr>\n",
       "      <th>0</th>\n",
       "      <td>3407.0</td>\n",
       "      <td>672.0</td>\n",
       "      <td>135612.0</td>\n",
       "      <td>Let's not forget that Apple Pay in 2014 requir...</td>\n",
       "      <td>95.0</td>\n",
       "      <td>1.0</td>\n",
       "    </tr>\n",
       "    <tr>\n",
       "      <th>1</th>\n",
       "      <td>3407.0</td>\n",
       "      <td>672.0</td>\n",
       "      <td>135612.0</td>\n",
       "      <td>Here in NZ 50% of retailers don’t even have co...</td>\n",
       "      <td>19.0</td>\n",
       "      <td>0.0</td>\n",
       "    </tr>\n",
       "    <tr>\n",
       "      <th>2</th>\n",
       "      <td>3407.0</td>\n",
       "      <td>672.0</td>\n",
       "      <td>135612.0</td>\n",
       "      <td>I will forever acknowledge this channel with t...</td>\n",
       "      <td>161.0</td>\n",
       "      <td>2.0</td>\n",
       "    </tr>\n",
       "    <tr>\n",
       "      <th>3</th>\n",
       "      <td>3407.0</td>\n",
       "      <td>672.0</td>\n",
       "      <td>135612.0</td>\n",
       "      <td>Whenever I go to a place that doesn’t take App...</td>\n",
       "      <td>8.0</td>\n",
       "      <td>0.0</td>\n",
       "    </tr>\n",
       "    <tr>\n",
       "      <th>4</th>\n",
       "      <td>3407.0</td>\n",
       "      <td>672.0</td>\n",
       "      <td>135612.0</td>\n",
       "      <td>Apple Pay is so convenient, secure, and easy t...</td>\n",
       "      <td>34.0</td>\n",
       "      <td>2.0</td>\n",
       "    </tr>\n",
       "  </tbody>\n",
       "</table>\n",
       "</div>"
      ],
      "text/plain": [
       "   Video Likes  No of Comments     Views  \\\n",
       "0       3407.0           672.0  135612.0   \n",
       "1       3407.0           672.0  135612.0   \n",
       "2       3407.0           672.0  135612.0   \n",
       "3       3407.0           672.0  135612.0   \n",
       "4       3407.0           672.0  135612.0   \n",
       "\n",
       "                                             Comment  Comment Likes  Sentiment  \n",
       "0  Let's not forget that Apple Pay in 2014 requir...           95.0        1.0  \n",
       "1  Here in NZ 50% of retailers don’t even have co...           19.0        0.0  \n",
       "2  I will forever acknowledge this channel with t...          161.0        2.0  \n",
       "3  Whenever I go to a place that doesn’t take App...            8.0        0.0  \n",
       "4  Apple Pay is so convenient, secure, and easy t...           34.0        2.0  "
      ]
     },
     "execution_count": 47,
     "metadata": {},
     "output_type": "execute_result"
    }
   ],
   "source": [
    "# Define the list of unnecessary columns to be dropped\n",
    "unnecessary_columns = ['Title', 'Video ID',  'Keyword']\n",
    "\n",
    "# Drop the unnecessary columns from the merged dataset\n",
    "merged_data = merged_data.drop(columns=unnecessary_columns)\n",
    "\n",
    "# Display the filtered dataset\n",
    "merged_data.head()"
   ]
  },
  {
   "cell_type": "markdown",
   "id": "ff720d2f",
   "metadata": {},
   "source": [
    "## 6. Define X and y"
   ]
  },
  {
   "cell_type": "markdown",
   "id": "98434f42",
   "metadata": {},
   "source": [
    "the target variable of the project is Video likes."
   ]
  },
  {
   "cell_type": "code",
   "execution_count": 48,
   "id": "0b70d9a3",
   "metadata": {},
   "outputs": [],
   "source": [
    "# Define X (features)\n",
    "X = merged_data.drop('Video Likes', axis=1)\n",
    "\n",
    "# Define y (target variable)\n",
    "y = merged_data['Video Likes']\n"
   ]
  },
  {
   "cell_type": "code",
   "execution_count": 49,
   "id": "a39d85ec",
   "metadata": {},
   "outputs": [
    {
     "data": {
      "text/html": [
       "<div>\n",
       "<style scoped>\n",
       "    .dataframe tbody tr th:only-of-type {\n",
       "        vertical-align: middle;\n",
       "    }\n",
       "\n",
       "    .dataframe tbody tr th {\n",
       "        vertical-align: top;\n",
       "    }\n",
       "\n",
       "    .dataframe thead th {\n",
       "        text-align: right;\n",
       "    }\n",
       "</style>\n",
       "<table border=\"1\" class=\"dataframe\">\n",
       "  <thead>\n",
       "    <tr style=\"text-align: right;\">\n",
       "      <th></th>\n",
       "      <th>No of Comments</th>\n",
       "      <th>Views</th>\n",
       "      <th>Comment</th>\n",
       "      <th>Comment Likes</th>\n",
       "      <th>Sentiment</th>\n",
       "    </tr>\n",
       "  </thead>\n",
       "  <tbody>\n",
       "    <tr>\n",
       "      <th>0</th>\n",
       "      <td>672.0</td>\n",
       "      <td>135612.0</td>\n",
       "      <td>Let's not forget that Apple Pay in 2014 requir...</td>\n",
       "      <td>95.0</td>\n",
       "      <td>1.0</td>\n",
       "    </tr>\n",
       "    <tr>\n",
       "      <th>1</th>\n",
       "      <td>672.0</td>\n",
       "      <td>135612.0</td>\n",
       "      <td>Here in NZ 50% of retailers don’t even have co...</td>\n",
       "      <td>19.0</td>\n",
       "      <td>0.0</td>\n",
       "    </tr>\n",
       "    <tr>\n",
       "      <th>2</th>\n",
       "      <td>672.0</td>\n",
       "      <td>135612.0</td>\n",
       "      <td>I will forever acknowledge this channel with t...</td>\n",
       "      <td>161.0</td>\n",
       "      <td>2.0</td>\n",
       "    </tr>\n",
       "    <tr>\n",
       "      <th>3</th>\n",
       "      <td>672.0</td>\n",
       "      <td>135612.0</td>\n",
       "      <td>Whenever I go to a place that doesn’t take App...</td>\n",
       "      <td>8.0</td>\n",
       "      <td>0.0</td>\n",
       "    </tr>\n",
       "    <tr>\n",
       "      <th>4</th>\n",
       "      <td>672.0</td>\n",
       "      <td>135612.0</td>\n",
       "      <td>Apple Pay is so convenient, secure, and easy t...</td>\n",
       "      <td>34.0</td>\n",
       "      <td>2.0</td>\n",
       "    </tr>\n",
       "    <tr>\n",
       "      <th>...</th>\n",
       "      <td>...</td>\n",
       "      <td>...</td>\n",
       "      <td>...</td>\n",
       "      <td>...</td>\n",
       "      <td>...</td>\n",
       "    </tr>\n",
       "    <tr>\n",
       "      <th>18620</th>\n",
       "      <td>443.0</td>\n",
       "      <td>226152.0</td>\n",
       "      <td>As a GenX'er I enjoyed this interview so much....</td>\n",
       "      <td>21.0</td>\n",
       "      <td>2.0</td>\n",
       "    </tr>\n",
       "    <tr>\n",
       "      <th>18621</th>\n",
       "      <td>443.0</td>\n",
       "      <td>226152.0</td>\n",
       "      <td>I took Ng's class on Coursera years ago. It sw...</td>\n",
       "      <td>159.0</td>\n",
       "      <td>2.0</td>\n",
       "    </tr>\n",
       "    <tr>\n",
       "      <th>18622</th>\n",
       "      <td>443.0</td>\n",
       "      <td>226152.0</td>\n",
       "      <td>This man got a great voiceover career availabl...</td>\n",
       "      <td>66.0</td>\n",
       "      <td>2.0</td>\n",
       "    </tr>\n",
       "    <tr>\n",
       "      <th>18623</th>\n",
       "      <td>443.0</td>\n",
       "      <td>226152.0</td>\n",
       "      <td>This week has been awesome! First Scott Aarons...</td>\n",
       "      <td>26.0</td>\n",
       "      <td>2.0</td>\n",
       "    </tr>\n",
       "    <tr>\n",
       "      <th>18624</th>\n",
       "      <td>443.0</td>\n",
       "      <td>226152.0</td>\n",
       "      <td>Im a physician from Brazil learning ai and thi...</td>\n",
       "      <td>38.0</td>\n",
       "      <td>2.0</td>\n",
       "    </tr>\n",
       "  </tbody>\n",
       "</table>\n",
       "<p>18624 rows × 5 columns</p>\n",
       "</div>"
      ],
      "text/plain": [
       "       No of Comments     Views  \\\n",
       "0               672.0  135612.0   \n",
       "1               672.0  135612.0   \n",
       "2               672.0  135612.0   \n",
       "3               672.0  135612.0   \n",
       "4               672.0  135612.0   \n",
       "...               ...       ...   \n",
       "18620           443.0  226152.0   \n",
       "18621           443.0  226152.0   \n",
       "18622           443.0  226152.0   \n",
       "18623           443.0  226152.0   \n",
       "18624           443.0  226152.0   \n",
       "\n",
       "                                                 Comment  Comment Likes  \\\n",
       "0      Let's not forget that Apple Pay in 2014 requir...           95.0   \n",
       "1      Here in NZ 50% of retailers don’t even have co...           19.0   \n",
       "2      I will forever acknowledge this channel with t...          161.0   \n",
       "3      Whenever I go to a place that doesn’t take App...            8.0   \n",
       "4      Apple Pay is so convenient, secure, and easy t...           34.0   \n",
       "...                                                  ...            ...   \n",
       "18620  As a GenX'er I enjoyed this interview so much....           21.0   \n",
       "18621  I took Ng's class on Coursera years ago. It sw...          159.0   \n",
       "18622  This man got a great voiceover career availabl...           66.0   \n",
       "18623  This week has been awesome! First Scott Aarons...           26.0   \n",
       "18624  Im a physician from Brazil learning ai and thi...           38.0   \n",
       "\n",
       "       Sentiment  \n",
       "0            1.0  \n",
       "1            0.0  \n",
       "2            2.0  \n",
       "3            0.0  \n",
       "4            2.0  \n",
       "...          ...  \n",
       "18620        2.0  \n",
       "18621        2.0  \n",
       "18622        2.0  \n",
       "18623        2.0  \n",
       "18624        2.0  \n",
       "\n",
       "[18624 rows x 5 columns]"
      ]
     },
     "execution_count": 49,
     "metadata": {},
     "output_type": "execute_result"
    }
   ],
   "source": [
    "#view X\n",
    "X"
   ]
  },
  {
   "cell_type": "code",
   "execution_count": 50,
   "id": "8d242743",
   "metadata": {},
   "outputs": [
    {
     "data": {
      "text/plain": [
       "0        3407.0\n",
       "1        3407.0\n",
       "2        3407.0\n",
       "3        3407.0\n",
       "4        3407.0\n",
       "          ...  \n",
       "18620    5198.0\n",
       "18621    5198.0\n",
       "18622    5198.0\n",
       "18623    5198.0\n",
       "18624    5198.0\n",
       "Name: Video Likes, Length: 18624, dtype: float64"
      ]
     },
     "execution_count": 50,
     "metadata": {},
     "output_type": "execute_result"
    }
   ],
   "source": [
    "#view y\n",
    "y"
   ]
  },
  {
   "cell_type": "markdown",
   "id": "6e634236",
   "metadata": {},
   "source": [
    "## 8. Preprocessing"
   ]
  },
  {
   "cell_type": "markdown",
   "id": "56437a3d",
   "metadata": {},
   "source": [
    "### 8.1. cleaning text (removing stopwords and lemmatizing)"
   ]
  },
  {
   "cell_type": "code",
   "execution_count": 51,
   "id": "6ab4fab5",
   "metadata": {},
   "outputs": [],
   "source": [
    "def preprocess_comment(comment):\n",
    "    # Remove numbers, symbols, and any characters other than A-Z and a-z alphabets\n",
    "    processed_comment = re.sub(r'[^A-Za-z]', ' ', comment)\n",
    "    \n",
    "    # Remove extra spaces\n",
    "    processed_comment = re.sub(r'\\s+', ' ', processed_comment).strip()\n",
    "    \n",
    "    # Convert to lowercase\n",
    "    processed_comment = processed_comment.lower()\n",
    "    \n",
    "    # Remove stopwords using NLTK\n",
    "    stop_words = set(stopwords.words('english'))\n",
    "    processed_comment = ' '.join(word for word in processed_comment.split() if word not in stop_words)\n",
    "    \n",
    "    # Lemmatize using NLTK\n",
    "    lemmatizer = WordNetLemmatizer()\n",
    "    processed_comment = ' '.join(lemmatizer.lemmatize(word) for word in processed_comment.split())\n",
    "    \n",
    "    return processed_comment\n"
   ]
  },
  {
   "cell_type": "code",
   "execution_count": 52,
   "id": "475aaa7d",
   "metadata": {},
   "outputs": [],
   "source": [
    "# Apply preprocessing function to the 'Comment' column\n",
    "X['Comment'] = X['Comment'].apply(preprocess_comment)"
   ]
  },
  {
   "cell_type": "code",
   "execution_count": 53,
   "id": "c3a9e7c3",
   "metadata": {},
   "outputs": [
    {
     "data": {
      "text/plain": [
       "0        let forget apple pay required brand new iphone...\n",
       "1        nz retailer even contactless credit card machi...\n",
       "2        forever acknowledge channel help lesson idea e...\n",
       "3        whenever go place take apple pay happen often ...\n",
       "4        apple pay convenient secure easy use used kore...\n",
       "                               ...                        \n",
       "18620    genx er enjoyed interview much made actually f...\n",
       "18621    took ng class coursera year ago switched caree...\n",
       "18622     man got great voiceover career available anytime\n",
       "18623    week awesome first scott aaronson andrew ng le...\n",
       "18624    im physician brazil learning ai fine man helpe...\n",
       "Name: Comment, Length: 18624, dtype: object"
      ]
     },
     "execution_count": 53,
     "metadata": {},
     "output_type": "execute_result"
    }
   ],
   "source": [
    "#print the comment column to check\n",
    "X[\"Comment\"]"
   ]
  },
  {
   "cell_type": "markdown",
   "id": "91388e55",
   "metadata": {},
   "source": [
    "## 8.2 Vectorize the text"
   ]
  },
  {
   "cell_type": "markdown",
   "id": "a5284df3",
   "metadata": {},
   "source": [
    "### Count Vectorizer"
   ]
  },
  {
   "cell_type": "markdown",
   "id": "98a41a3f",
   "metadata": {},
   "source": [
    "from sklearn.feature_extraction.text import CountVectorizer"
   ]
  },
  {
   "cell_type": "code",
   "execution_count": 55,
   "id": "9a6cad5b",
   "metadata": {},
   "outputs": [
    {
     "data": {
      "text/plain": [
       "array([[0, 0, 0, ..., 0, 0, 0],\n",
       "       [0, 0, 0, ..., 0, 0, 0],\n",
       "       [0, 0, 0, ..., 0, 0, 0],\n",
       "       ...,\n",
       "       [0, 0, 0, ..., 0, 0, 0],\n",
       "       [0, 0, 0, ..., 0, 0, 0],\n",
       "       [0, 0, 0, ..., 0, 0, 0]], dtype=int64)"
      ]
     },
     "execution_count": 55,
     "metadata": {},
     "output_type": "execute_result"
    }
   ],
   "source": [
    "# Initialize the CountVectorizer with adjusted parameters\n",
    "vectorizer = CountVectorizer(max_features=3000, ngram_range=(1, 2), stop_words='english')\n",
    "\n",
    "# Fit and transform the 'Comment' column\n",
    "X_vectorized = vectorizer.fit_transform(X[\"Comment\"])\n",
    "\n",
    "X_vectorized = X_vectorized.toarray()\n",
    "X_vectorized"
   ]
  },
  {
   "cell_type": "code",
   "execution_count": 56,
   "id": "82ce5936",
   "metadata": {},
   "outputs": [
    {
     "name": "stderr",
     "output_type": "stream",
     "text": [
      "C:\\Users\\avino\\anaconda3\\lib\\site-packages\\sklearn\\utils\\deprecation.py:87: FutureWarning: Function get_feature_names is deprecated; get_feature_names is deprecated in 1.0 and will be removed in 1.2. Please use get_feature_names_out instead.\n",
      "  warnings.warn(msg, category=FutureWarning)\n"
     ]
    },
    {
     "data": {
      "text/html": [
       "<div>\n",
       "<style scoped>\n",
       "    .dataframe tbody tr th:only-of-type {\n",
       "        vertical-align: middle;\n",
       "    }\n",
       "\n",
       "    .dataframe tbody tr th {\n",
       "        vertical-align: top;\n",
       "    }\n",
       "\n",
       "    .dataframe thead th {\n",
       "        text-align: right;\n",
       "    }\n",
       "</style>\n",
       "<table border=\"1\" class=\"dataframe\">\n",
       "  <thead>\n",
       "    <tr style=\"text-align: right;\">\n",
       "      <th></th>\n",
       "      <th>abian</th>\n",
       "      <th>abian apreciado</th>\n",
       "      <th>ability</th>\n",
       "      <th>able</th>\n",
       "      <th>absolute</th>\n",
       "      <th>absolutely</th>\n",
       "      <th>absolutely amazing</th>\n",
       "      <th>absolutely love</th>\n",
       "      <th>academic</th>\n",
       "      <th>academy</th>\n",
       "      <th>...</th>\n",
       "      <th>youtuber</th>\n",
       "      <th>youtubers</th>\n",
       "      <th>yr</th>\n",
       "      <th>yummy</th>\n",
       "      <th>zach</th>\n",
       "      <th>zero</th>\n",
       "      <th>zifn</th>\n",
       "      <th>zifn son</th>\n",
       "      <th>zombie</th>\n",
       "      <th>zoom</th>\n",
       "    </tr>\n",
       "  </thead>\n",
       "  <tbody>\n",
       "    <tr>\n",
       "      <th>0</th>\n",
       "      <td>0</td>\n",
       "      <td>0</td>\n",
       "      <td>0</td>\n",
       "      <td>1</td>\n",
       "      <td>0</td>\n",
       "      <td>0</td>\n",
       "      <td>0</td>\n",
       "      <td>0</td>\n",
       "      <td>0</td>\n",
       "      <td>0</td>\n",
       "      <td>...</td>\n",
       "      <td>0</td>\n",
       "      <td>0</td>\n",
       "      <td>0</td>\n",
       "      <td>0</td>\n",
       "      <td>0</td>\n",
       "      <td>0</td>\n",
       "      <td>0</td>\n",
       "      <td>0</td>\n",
       "      <td>0</td>\n",
       "      <td>0</td>\n",
       "    </tr>\n",
       "    <tr>\n",
       "      <th>1</th>\n",
       "      <td>0</td>\n",
       "      <td>0</td>\n",
       "      <td>0</td>\n",
       "      <td>0</td>\n",
       "      <td>0</td>\n",
       "      <td>0</td>\n",
       "      <td>0</td>\n",
       "      <td>0</td>\n",
       "      <td>0</td>\n",
       "      <td>0</td>\n",
       "      <td>...</td>\n",
       "      <td>0</td>\n",
       "      <td>0</td>\n",
       "      <td>0</td>\n",
       "      <td>0</td>\n",
       "      <td>0</td>\n",
       "      <td>0</td>\n",
       "      <td>0</td>\n",
       "      <td>0</td>\n",
       "      <td>0</td>\n",
       "      <td>0</td>\n",
       "    </tr>\n",
       "    <tr>\n",
       "      <th>2</th>\n",
       "      <td>0</td>\n",
       "      <td>0</td>\n",
       "      <td>0</td>\n",
       "      <td>0</td>\n",
       "      <td>0</td>\n",
       "      <td>0</td>\n",
       "      <td>0</td>\n",
       "      <td>0</td>\n",
       "      <td>0</td>\n",
       "      <td>0</td>\n",
       "      <td>...</td>\n",
       "      <td>0</td>\n",
       "      <td>0</td>\n",
       "      <td>0</td>\n",
       "      <td>0</td>\n",
       "      <td>0</td>\n",
       "      <td>0</td>\n",
       "      <td>0</td>\n",
       "      <td>0</td>\n",
       "      <td>0</td>\n",
       "      <td>0</td>\n",
       "    </tr>\n",
       "    <tr>\n",
       "      <th>3</th>\n",
       "      <td>0</td>\n",
       "      <td>0</td>\n",
       "      <td>0</td>\n",
       "      <td>0</td>\n",
       "      <td>0</td>\n",
       "      <td>0</td>\n",
       "      <td>0</td>\n",
       "      <td>0</td>\n",
       "      <td>0</td>\n",
       "      <td>0</td>\n",
       "      <td>...</td>\n",
       "      <td>0</td>\n",
       "      <td>0</td>\n",
       "      <td>0</td>\n",
       "      <td>0</td>\n",
       "      <td>0</td>\n",
       "      <td>0</td>\n",
       "      <td>0</td>\n",
       "      <td>0</td>\n",
       "      <td>0</td>\n",
       "      <td>0</td>\n",
       "    </tr>\n",
       "    <tr>\n",
       "      <th>4</th>\n",
       "      <td>0</td>\n",
       "      <td>0</td>\n",
       "      <td>0</td>\n",
       "      <td>0</td>\n",
       "      <td>0</td>\n",
       "      <td>0</td>\n",
       "      <td>0</td>\n",
       "      <td>0</td>\n",
       "      <td>0</td>\n",
       "      <td>0</td>\n",
       "      <td>...</td>\n",
       "      <td>0</td>\n",
       "      <td>0</td>\n",
       "      <td>0</td>\n",
       "      <td>0</td>\n",
       "      <td>0</td>\n",
       "      <td>0</td>\n",
       "      <td>0</td>\n",
       "      <td>0</td>\n",
       "      <td>0</td>\n",
       "      <td>0</td>\n",
       "    </tr>\n",
       "    <tr>\n",
       "      <th>...</th>\n",
       "      <td>...</td>\n",
       "      <td>...</td>\n",
       "      <td>...</td>\n",
       "      <td>...</td>\n",
       "      <td>...</td>\n",
       "      <td>...</td>\n",
       "      <td>...</td>\n",
       "      <td>...</td>\n",
       "      <td>...</td>\n",
       "      <td>...</td>\n",
       "      <td>...</td>\n",
       "      <td>...</td>\n",
       "      <td>...</td>\n",
       "      <td>...</td>\n",
       "      <td>...</td>\n",
       "      <td>...</td>\n",
       "      <td>...</td>\n",
       "      <td>...</td>\n",
       "      <td>...</td>\n",
       "      <td>...</td>\n",
       "      <td>...</td>\n",
       "    </tr>\n",
       "    <tr>\n",
       "      <th>18619</th>\n",
       "      <td>0</td>\n",
       "      <td>0</td>\n",
       "      <td>0</td>\n",
       "      <td>0</td>\n",
       "      <td>0</td>\n",
       "      <td>0</td>\n",
       "      <td>0</td>\n",
       "      <td>0</td>\n",
       "      <td>0</td>\n",
       "      <td>0</td>\n",
       "      <td>...</td>\n",
       "      <td>0</td>\n",
       "      <td>0</td>\n",
       "      <td>0</td>\n",
       "      <td>0</td>\n",
       "      <td>0</td>\n",
       "      <td>0</td>\n",
       "      <td>0</td>\n",
       "      <td>0</td>\n",
       "      <td>0</td>\n",
       "      <td>0</td>\n",
       "    </tr>\n",
       "    <tr>\n",
       "      <th>18620</th>\n",
       "      <td>0</td>\n",
       "      <td>0</td>\n",
       "      <td>0</td>\n",
       "      <td>0</td>\n",
       "      <td>0</td>\n",
       "      <td>0</td>\n",
       "      <td>0</td>\n",
       "      <td>0</td>\n",
       "      <td>1</td>\n",
       "      <td>0</td>\n",
       "      <td>...</td>\n",
       "      <td>0</td>\n",
       "      <td>0</td>\n",
       "      <td>0</td>\n",
       "      <td>0</td>\n",
       "      <td>0</td>\n",
       "      <td>0</td>\n",
       "      <td>0</td>\n",
       "      <td>0</td>\n",
       "      <td>0</td>\n",
       "      <td>0</td>\n",
       "    </tr>\n",
       "    <tr>\n",
       "      <th>18621</th>\n",
       "      <td>0</td>\n",
       "      <td>0</td>\n",
       "      <td>0</td>\n",
       "      <td>0</td>\n",
       "      <td>0</td>\n",
       "      <td>0</td>\n",
       "      <td>0</td>\n",
       "      <td>0</td>\n",
       "      <td>0</td>\n",
       "      <td>0</td>\n",
       "      <td>...</td>\n",
       "      <td>0</td>\n",
       "      <td>0</td>\n",
       "      <td>0</td>\n",
       "      <td>0</td>\n",
       "      <td>0</td>\n",
       "      <td>0</td>\n",
       "      <td>0</td>\n",
       "      <td>0</td>\n",
       "      <td>0</td>\n",
       "      <td>0</td>\n",
       "    </tr>\n",
       "    <tr>\n",
       "      <th>18622</th>\n",
       "      <td>0</td>\n",
       "      <td>0</td>\n",
       "      <td>0</td>\n",
       "      <td>0</td>\n",
       "      <td>0</td>\n",
       "      <td>0</td>\n",
       "      <td>0</td>\n",
       "      <td>0</td>\n",
       "      <td>0</td>\n",
       "      <td>0</td>\n",
       "      <td>...</td>\n",
       "      <td>0</td>\n",
       "      <td>0</td>\n",
       "      <td>0</td>\n",
       "      <td>0</td>\n",
       "      <td>0</td>\n",
       "      <td>0</td>\n",
       "      <td>0</td>\n",
       "      <td>0</td>\n",
       "      <td>0</td>\n",
       "      <td>0</td>\n",
       "    </tr>\n",
       "    <tr>\n",
       "      <th>18623</th>\n",
       "      <td>0</td>\n",
       "      <td>0</td>\n",
       "      <td>0</td>\n",
       "      <td>0</td>\n",
       "      <td>0</td>\n",
       "      <td>0</td>\n",
       "      <td>0</td>\n",
       "      <td>0</td>\n",
       "      <td>0</td>\n",
       "      <td>0</td>\n",
       "      <td>...</td>\n",
       "      <td>0</td>\n",
       "      <td>0</td>\n",
       "      <td>0</td>\n",
       "      <td>0</td>\n",
       "      <td>0</td>\n",
       "      <td>0</td>\n",
       "      <td>0</td>\n",
       "      <td>0</td>\n",
       "      <td>0</td>\n",
       "      <td>0</td>\n",
       "    </tr>\n",
       "  </tbody>\n",
       "</table>\n",
       "<p>18624 rows × 3000 columns</p>\n",
       "</div>"
      ],
      "text/plain": [
       "       abian  abian apreciado  ability  able  absolute  absolutely  \\\n",
       "0          0                0        0     1         0           0   \n",
       "1          0                0        0     0         0           0   \n",
       "2          0                0        0     0         0           0   \n",
       "3          0                0        0     0         0           0   \n",
       "4          0                0        0     0         0           0   \n",
       "...      ...              ...      ...   ...       ...         ...   \n",
       "18619      0                0        0     0         0           0   \n",
       "18620      0                0        0     0         0           0   \n",
       "18621      0                0        0     0         0           0   \n",
       "18622      0                0        0     0         0           0   \n",
       "18623      0                0        0     0         0           0   \n",
       "\n",
       "       absolutely amazing  absolutely love  academic  academy  ...  youtuber  \\\n",
       "0                       0                0         0        0  ...         0   \n",
       "1                       0                0         0        0  ...         0   \n",
       "2                       0                0         0        0  ...         0   \n",
       "3                       0                0         0        0  ...         0   \n",
       "4                       0                0         0        0  ...         0   \n",
       "...                   ...              ...       ...      ...  ...       ...   \n",
       "18619                   0                0         0        0  ...         0   \n",
       "18620                   0                0         1        0  ...         0   \n",
       "18621                   0                0         0        0  ...         0   \n",
       "18622                   0                0         0        0  ...         0   \n",
       "18623                   0                0         0        0  ...         0   \n",
       "\n",
       "       youtubers  yr  yummy  zach  zero  zifn  zifn son  zombie  zoom  \n",
       "0              0   0      0     0     0     0         0       0     0  \n",
       "1              0   0      0     0     0     0         0       0     0  \n",
       "2              0   0      0     0     0     0         0       0     0  \n",
       "3              0   0      0     0     0     0         0       0     0  \n",
       "4              0   0      0     0     0     0         0       0     0  \n",
       "...          ...  ..    ...   ...   ...   ...       ...     ...   ...  \n",
       "18619          0   0      0     0     0     0         0       0     0  \n",
       "18620          0   0      0     0     0     0         0       0     0  \n",
       "18621          0   0      0     0     0     0         0       0     0  \n",
       "18622          0   0      0     0     0     0         0       0     0  \n",
       "18623          0   0      0     0     0     0         0       0     0  \n",
       "\n",
       "[18624 rows x 3000 columns]"
      ]
     },
     "execution_count": 56,
     "metadata": {},
     "output_type": "execute_result"
    }
   ],
   "source": [
    "# Create a DataFrame with the vectorized comments\n",
    "X_vectorized = pd.DataFrame(X_vectorized, columns=vectorizer.get_feature_names())\n",
    "X_vectorized"
   ]
  },
  {
   "cell_type": "markdown",
   "id": "9c48a46b",
   "metadata": {},
   "source": [
    "### 8.2.1 merge original data with the vectorized data"
   ]
  },
  {
   "cell_type": "code",
   "execution_count": 57,
   "id": "45950cb6",
   "metadata": {},
   "outputs": [
    {
     "data": {
      "text/html": [
       "<div>\n",
       "<style scoped>\n",
       "    .dataframe tbody tr th:only-of-type {\n",
       "        vertical-align: middle;\n",
       "    }\n",
       "\n",
       "    .dataframe tbody tr th {\n",
       "        vertical-align: top;\n",
       "    }\n",
       "\n",
       "    .dataframe thead th {\n",
       "        text-align: right;\n",
       "    }\n",
       "</style>\n",
       "<table border=\"1\" class=\"dataframe\">\n",
       "  <thead>\n",
       "    <tr style=\"text-align: right;\">\n",
       "      <th></th>\n",
       "      <th>No of Comments</th>\n",
       "      <th>Views</th>\n",
       "      <th>Comment</th>\n",
       "      <th>Comment Likes</th>\n",
       "      <th>Sentiment</th>\n",
       "    </tr>\n",
       "  </thead>\n",
       "  <tbody>\n",
       "    <tr>\n",
       "      <th>0</th>\n",
       "      <td>672.0</td>\n",
       "      <td>135612.0</td>\n",
       "      <td>let forget apple pay required brand new iphone...</td>\n",
       "      <td>95.0</td>\n",
       "      <td>1.0</td>\n",
       "    </tr>\n",
       "    <tr>\n",
       "      <th>1</th>\n",
       "      <td>672.0</td>\n",
       "      <td>135612.0</td>\n",
       "      <td>nz retailer even contactless credit card machi...</td>\n",
       "      <td>19.0</td>\n",
       "      <td>0.0</td>\n",
       "    </tr>\n",
       "    <tr>\n",
       "      <th>2</th>\n",
       "      <td>672.0</td>\n",
       "      <td>135612.0</td>\n",
       "      <td>forever acknowledge channel help lesson idea e...</td>\n",
       "      <td>161.0</td>\n",
       "      <td>2.0</td>\n",
       "    </tr>\n",
       "    <tr>\n",
       "      <th>3</th>\n",
       "      <td>672.0</td>\n",
       "      <td>135612.0</td>\n",
       "      <td>whenever go place take apple pay happen often ...</td>\n",
       "      <td>8.0</td>\n",
       "      <td>0.0</td>\n",
       "    </tr>\n",
       "    <tr>\n",
       "      <th>4</th>\n",
       "      <td>672.0</td>\n",
       "      <td>135612.0</td>\n",
       "      <td>apple pay convenient secure easy use used kore...</td>\n",
       "      <td>34.0</td>\n",
       "      <td>2.0</td>\n",
       "    </tr>\n",
       "    <tr>\n",
       "      <th>...</th>\n",
       "      <td>...</td>\n",
       "      <td>...</td>\n",
       "      <td>...</td>\n",
       "      <td>...</td>\n",
       "      <td>...</td>\n",
       "    </tr>\n",
       "    <tr>\n",
       "      <th>18619</th>\n",
       "      <td>443.0</td>\n",
       "      <td>226152.0</td>\n",
       "      <td>genx er enjoyed interview much made actually f...</td>\n",
       "      <td>21.0</td>\n",
       "      <td>2.0</td>\n",
       "    </tr>\n",
       "    <tr>\n",
       "      <th>18620</th>\n",
       "      <td>443.0</td>\n",
       "      <td>226152.0</td>\n",
       "      <td>took ng class coursera year ago switched caree...</td>\n",
       "      <td>159.0</td>\n",
       "      <td>2.0</td>\n",
       "    </tr>\n",
       "    <tr>\n",
       "      <th>18621</th>\n",
       "      <td>443.0</td>\n",
       "      <td>226152.0</td>\n",
       "      <td>man got great voiceover career available anytime</td>\n",
       "      <td>66.0</td>\n",
       "      <td>2.0</td>\n",
       "    </tr>\n",
       "    <tr>\n",
       "      <th>18622</th>\n",
       "      <td>443.0</td>\n",
       "      <td>226152.0</td>\n",
       "      <td>week awesome first scott aaronson andrew ng le...</td>\n",
       "      <td>26.0</td>\n",
       "      <td>2.0</td>\n",
       "    </tr>\n",
       "    <tr>\n",
       "      <th>18623</th>\n",
       "      <td>443.0</td>\n",
       "      <td>226152.0</td>\n",
       "      <td>im physician brazil learning ai fine man helpe...</td>\n",
       "      <td>38.0</td>\n",
       "      <td>2.0</td>\n",
       "    </tr>\n",
       "  </tbody>\n",
       "</table>\n",
       "<p>18624 rows × 5 columns</p>\n",
       "</div>"
      ],
      "text/plain": [
       "       No of Comments     Views  \\\n",
       "0               672.0  135612.0   \n",
       "1               672.0  135612.0   \n",
       "2               672.0  135612.0   \n",
       "3               672.0  135612.0   \n",
       "4               672.0  135612.0   \n",
       "...               ...       ...   \n",
       "18619           443.0  226152.0   \n",
       "18620           443.0  226152.0   \n",
       "18621           443.0  226152.0   \n",
       "18622           443.0  226152.0   \n",
       "18623           443.0  226152.0   \n",
       "\n",
       "                                                 Comment  Comment Likes  \\\n",
       "0      let forget apple pay required brand new iphone...           95.0   \n",
       "1      nz retailer even contactless credit card machi...           19.0   \n",
       "2      forever acknowledge channel help lesson idea e...          161.0   \n",
       "3      whenever go place take apple pay happen often ...            8.0   \n",
       "4      apple pay convenient secure easy use used kore...           34.0   \n",
       "...                                                  ...            ...   \n",
       "18619  genx er enjoyed interview much made actually f...           21.0   \n",
       "18620  took ng class coursera year ago switched caree...          159.0   \n",
       "18621   man got great voiceover career available anytime           66.0   \n",
       "18622  week awesome first scott aaronson andrew ng le...           26.0   \n",
       "18623  im physician brazil learning ai fine man helpe...           38.0   \n",
       "\n",
       "       Sentiment  \n",
       "0            1.0  \n",
       "1            0.0  \n",
       "2            2.0  \n",
       "3            0.0  \n",
       "4            2.0  \n",
       "...          ...  \n",
       "18619        2.0  \n",
       "18620        2.0  \n",
       "18621        2.0  \n",
       "18622        2.0  \n",
       "18623        2.0  \n",
       "\n",
       "[18624 rows x 5 columns]"
      ]
     },
     "execution_count": 57,
     "metadata": {},
     "output_type": "execute_result"
    }
   ],
   "source": [
    "#reset index for X data\n",
    "X.reset_index(drop = True, inplace = True)\n",
    "X"
   ]
  },
  {
   "cell_type": "code",
   "execution_count": 58,
   "id": "0f6820b7",
   "metadata": {},
   "outputs": [
    {
     "data": {
      "text/html": [
       "<div>\n",
       "<style scoped>\n",
       "    .dataframe tbody tr th:only-of-type {\n",
       "        vertical-align: middle;\n",
       "    }\n",
       "\n",
       "    .dataframe tbody tr th {\n",
       "        vertical-align: top;\n",
       "    }\n",
       "\n",
       "    .dataframe thead th {\n",
       "        text-align: right;\n",
       "    }\n",
       "</style>\n",
       "<table border=\"1\" class=\"dataframe\">\n",
       "  <thead>\n",
       "    <tr style=\"text-align: right;\">\n",
       "      <th></th>\n",
       "      <th>abian</th>\n",
       "      <th>abian apreciado</th>\n",
       "      <th>ability</th>\n",
       "      <th>able</th>\n",
       "      <th>absolute</th>\n",
       "      <th>absolutely</th>\n",
       "      <th>absolutely amazing</th>\n",
       "      <th>absolutely love</th>\n",
       "      <th>academic</th>\n",
       "      <th>academy</th>\n",
       "      <th>...</th>\n",
       "      <th>youtuber</th>\n",
       "      <th>youtubers</th>\n",
       "      <th>yr</th>\n",
       "      <th>yummy</th>\n",
       "      <th>zach</th>\n",
       "      <th>zero</th>\n",
       "      <th>zifn</th>\n",
       "      <th>zifn son</th>\n",
       "      <th>zombie</th>\n",
       "      <th>zoom</th>\n",
       "    </tr>\n",
       "  </thead>\n",
       "  <tbody>\n",
       "    <tr>\n",
       "      <th>0</th>\n",
       "      <td>0</td>\n",
       "      <td>0</td>\n",
       "      <td>0</td>\n",
       "      <td>1</td>\n",
       "      <td>0</td>\n",
       "      <td>0</td>\n",
       "      <td>0</td>\n",
       "      <td>0</td>\n",
       "      <td>0</td>\n",
       "      <td>0</td>\n",
       "      <td>...</td>\n",
       "      <td>0</td>\n",
       "      <td>0</td>\n",
       "      <td>0</td>\n",
       "      <td>0</td>\n",
       "      <td>0</td>\n",
       "      <td>0</td>\n",
       "      <td>0</td>\n",
       "      <td>0</td>\n",
       "      <td>0</td>\n",
       "      <td>0</td>\n",
       "    </tr>\n",
       "    <tr>\n",
       "      <th>1</th>\n",
       "      <td>0</td>\n",
       "      <td>0</td>\n",
       "      <td>0</td>\n",
       "      <td>0</td>\n",
       "      <td>0</td>\n",
       "      <td>0</td>\n",
       "      <td>0</td>\n",
       "      <td>0</td>\n",
       "      <td>0</td>\n",
       "      <td>0</td>\n",
       "      <td>...</td>\n",
       "      <td>0</td>\n",
       "      <td>0</td>\n",
       "      <td>0</td>\n",
       "      <td>0</td>\n",
       "      <td>0</td>\n",
       "      <td>0</td>\n",
       "      <td>0</td>\n",
       "      <td>0</td>\n",
       "      <td>0</td>\n",
       "      <td>0</td>\n",
       "    </tr>\n",
       "    <tr>\n",
       "      <th>2</th>\n",
       "      <td>0</td>\n",
       "      <td>0</td>\n",
       "      <td>0</td>\n",
       "      <td>0</td>\n",
       "      <td>0</td>\n",
       "      <td>0</td>\n",
       "      <td>0</td>\n",
       "      <td>0</td>\n",
       "      <td>0</td>\n",
       "      <td>0</td>\n",
       "      <td>...</td>\n",
       "      <td>0</td>\n",
       "      <td>0</td>\n",
       "      <td>0</td>\n",
       "      <td>0</td>\n",
       "      <td>0</td>\n",
       "      <td>0</td>\n",
       "      <td>0</td>\n",
       "      <td>0</td>\n",
       "      <td>0</td>\n",
       "      <td>0</td>\n",
       "    </tr>\n",
       "    <tr>\n",
       "      <th>3</th>\n",
       "      <td>0</td>\n",
       "      <td>0</td>\n",
       "      <td>0</td>\n",
       "      <td>0</td>\n",
       "      <td>0</td>\n",
       "      <td>0</td>\n",
       "      <td>0</td>\n",
       "      <td>0</td>\n",
       "      <td>0</td>\n",
       "      <td>0</td>\n",
       "      <td>...</td>\n",
       "      <td>0</td>\n",
       "      <td>0</td>\n",
       "      <td>0</td>\n",
       "      <td>0</td>\n",
       "      <td>0</td>\n",
       "      <td>0</td>\n",
       "      <td>0</td>\n",
       "      <td>0</td>\n",
       "      <td>0</td>\n",
       "      <td>0</td>\n",
       "    </tr>\n",
       "    <tr>\n",
       "      <th>4</th>\n",
       "      <td>0</td>\n",
       "      <td>0</td>\n",
       "      <td>0</td>\n",
       "      <td>0</td>\n",
       "      <td>0</td>\n",
       "      <td>0</td>\n",
       "      <td>0</td>\n",
       "      <td>0</td>\n",
       "      <td>0</td>\n",
       "      <td>0</td>\n",
       "      <td>...</td>\n",
       "      <td>0</td>\n",
       "      <td>0</td>\n",
       "      <td>0</td>\n",
       "      <td>0</td>\n",
       "      <td>0</td>\n",
       "      <td>0</td>\n",
       "      <td>0</td>\n",
       "      <td>0</td>\n",
       "      <td>0</td>\n",
       "      <td>0</td>\n",
       "    </tr>\n",
       "    <tr>\n",
       "      <th>...</th>\n",
       "      <td>...</td>\n",
       "      <td>...</td>\n",
       "      <td>...</td>\n",
       "      <td>...</td>\n",
       "      <td>...</td>\n",
       "      <td>...</td>\n",
       "      <td>...</td>\n",
       "      <td>...</td>\n",
       "      <td>...</td>\n",
       "      <td>...</td>\n",
       "      <td>...</td>\n",
       "      <td>...</td>\n",
       "      <td>...</td>\n",
       "      <td>...</td>\n",
       "      <td>...</td>\n",
       "      <td>...</td>\n",
       "      <td>...</td>\n",
       "      <td>...</td>\n",
       "      <td>...</td>\n",
       "      <td>...</td>\n",
       "      <td>...</td>\n",
       "    </tr>\n",
       "    <tr>\n",
       "      <th>18619</th>\n",
       "      <td>0</td>\n",
       "      <td>0</td>\n",
       "      <td>0</td>\n",
       "      <td>0</td>\n",
       "      <td>0</td>\n",
       "      <td>0</td>\n",
       "      <td>0</td>\n",
       "      <td>0</td>\n",
       "      <td>0</td>\n",
       "      <td>0</td>\n",
       "      <td>...</td>\n",
       "      <td>0</td>\n",
       "      <td>0</td>\n",
       "      <td>0</td>\n",
       "      <td>0</td>\n",
       "      <td>0</td>\n",
       "      <td>0</td>\n",
       "      <td>0</td>\n",
       "      <td>0</td>\n",
       "      <td>0</td>\n",
       "      <td>0</td>\n",
       "    </tr>\n",
       "    <tr>\n",
       "      <th>18620</th>\n",
       "      <td>0</td>\n",
       "      <td>0</td>\n",
       "      <td>0</td>\n",
       "      <td>0</td>\n",
       "      <td>0</td>\n",
       "      <td>0</td>\n",
       "      <td>0</td>\n",
       "      <td>0</td>\n",
       "      <td>1</td>\n",
       "      <td>0</td>\n",
       "      <td>...</td>\n",
       "      <td>0</td>\n",
       "      <td>0</td>\n",
       "      <td>0</td>\n",
       "      <td>0</td>\n",
       "      <td>0</td>\n",
       "      <td>0</td>\n",
       "      <td>0</td>\n",
       "      <td>0</td>\n",
       "      <td>0</td>\n",
       "      <td>0</td>\n",
       "    </tr>\n",
       "    <tr>\n",
       "      <th>18621</th>\n",
       "      <td>0</td>\n",
       "      <td>0</td>\n",
       "      <td>0</td>\n",
       "      <td>0</td>\n",
       "      <td>0</td>\n",
       "      <td>0</td>\n",
       "      <td>0</td>\n",
       "      <td>0</td>\n",
       "      <td>0</td>\n",
       "      <td>0</td>\n",
       "      <td>...</td>\n",
       "      <td>0</td>\n",
       "      <td>0</td>\n",
       "      <td>0</td>\n",
       "      <td>0</td>\n",
       "      <td>0</td>\n",
       "      <td>0</td>\n",
       "      <td>0</td>\n",
       "      <td>0</td>\n",
       "      <td>0</td>\n",
       "      <td>0</td>\n",
       "    </tr>\n",
       "    <tr>\n",
       "      <th>18622</th>\n",
       "      <td>0</td>\n",
       "      <td>0</td>\n",
       "      <td>0</td>\n",
       "      <td>0</td>\n",
       "      <td>0</td>\n",
       "      <td>0</td>\n",
       "      <td>0</td>\n",
       "      <td>0</td>\n",
       "      <td>0</td>\n",
       "      <td>0</td>\n",
       "      <td>...</td>\n",
       "      <td>0</td>\n",
       "      <td>0</td>\n",
       "      <td>0</td>\n",
       "      <td>0</td>\n",
       "      <td>0</td>\n",
       "      <td>0</td>\n",
       "      <td>0</td>\n",
       "      <td>0</td>\n",
       "      <td>0</td>\n",
       "      <td>0</td>\n",
       "    </tr>\n",
       "    <tr>\n",
       "      <th>18623</th>\n",
       "      <td>0</td>\n",
       "      <td>0</td>\n",
       "      <td>0</td>\n",
       "      <td>0</td>\n",
       "      <td>0</td>\n",
       "      <td>0</td>\n",
       "      <td>0</td>\n",
       "      <td>0</td>\n",
       "      <td>0</td>\n",
       "      <td>0</td>\n",
       "      <td>...</td>\n",
       "      <td>0</td>\n",
       "      <td>0</td>\n",
       "      <td>0</td>\n",
       "      <td>0</td>\n",
       "      <td>0</td>\n",
       "      <td>0</td>\n",
       "      <td>0</td>\n",
       "      <td>0</td>\n",
       "      <td>0</td>\n",
       "      <td>0</td>\n",
       "    </tr>\n",
       "  </tbody>\n",
       "</table>\n",
       "<p>18624 rows × 3000 columns</p>\n",
       "</div>"
      ],
      "text/plain": [
       "       abian  abian apreciado  ability  able  absolute  absolutely  \\\n",
       "0          0                0        0     1         0           0   \n",
       "1          0                0        0     0         0           0   \n",
       "2          0                0        0     0         0           0   \n",
       "3          0                0        0     0         0           0   \n",
       "4          0                0        0     0         0           0   \n",
       "...      ...              ...      ...   ...       ...         ...   \n",
       "18619      0                0        0     0         0           0   \n",
       "18620      0                0        0     0         0           0   \n",
       "18621      0                0        0     0         0           0   \n",
       "18622      0                0        0     0         0           0   \n",
       "18623      0                0        0     0         0           0   \n",
       "\n",
       "       absolutely amazing  absolutely love  academic  academy  ...  youtuber  \\\n",
       "0                       0                0         0        0  ...         0   \n",
       "1                       0                0         0        0  ...         0   \n",
       "2                       0                0         0        0  ...         0   \n",
       "3                       0                0         0        0  ...         0   \n",
       "4                       0                0         0        0  ...         0   \n",
       "...                   ...              ...       ...      ...  ...       ...   \n",
       "18619                   0                0         0        0  ...         0   \n",
       "18620                   0                0         1        0  ...         0   \n",
       "18621                   0                0         0        0  ...         0   \n",
       "18622                   0                0         0        0  ...         0   \n",
       "18623                   0                0         0        0  ...         0   \n",
       "\n",
       "       youtubers  yr  yummy  zach  zero  zifn  zifn son  zombie  zoom  \n",
       "0              0   0      0     0     0     0         0       0     0  \n",
       "1              0   0      0     0     0     0         0       0     0  \n",
       "2              0   0      0     0     0     0         0       0     0  \n",
       "3              0   0      0     0     0     0         0       0     0  \n",
       "4              0   0      0     0     0     0         0       0     0  \n",
       "...          ...  ..    ...   ...   ...   ...       ...     ...   ...  \n",
       "18619          0   0      0     0     0     0         0       0     0  \n",
       "18620          0   0      0     0     0     0         0       0     0  \n",
       "18621          0   0      0     0     0     0         0       0     0  \n",
       "18622          0   0      0     0     0     0         0       0     0  \n",
       "18623          0   0      0     0     0     0         0       0     0  \n",
       "\n",
       "[18624 rows x 3000 columns]"
      ]
     },
     "execution_count": 58,
     "metadata": {},
     "output_type": "execute_result"
    }
   ],
   "source": [
    "#reset index for X[\"Comment\"] data\n",
    "X_vectorized.reset_index(drop = True, inplace = True)\n",
    "X_vectorized"
   ]
  },
  {
   "cell_type": "code",
   "execution_count": 59,
   "id": "cebcaaea",
   "metadata": {},
   "outputs": [
    {
     "data": {
      "text/html": [
       "<div>\n",
       "<style scoped>\n",
       "    .dataframe tbody tr th:only-of-type {\n",
       "        vertical-align: middle;\n",
       "    }\n",
       "\n",
       "    .dataframe tbody tr th {\n",
       "        vertical-align: top;\n",
       "    }\n",
       "\n",
       "    .dataframe thead th {\n",
       "        text-align: right;\n",
       "    }\n",
       "</style>\n",
       "<table border=\"1\" class=\"dataframe\">\n",
       "  <thead>\n",
       "    <tr style=\"text-align: right;\">\n",
       "      <th></th>\n",
       "      <th>No of Comments</th>\n",
       "      <th>Views</th>\n",
       "      <th>Comment</th>\n",
       "      <th>Comment Likes</th>\n",
       "      <th>Sentiment</th>\n",
       "      <th>abian</th>\n",
       "      <th>abian apreciado</th>\n",
       "      <th>ability</th>\n",
       "      <th>able</th>\n",
       "      <th>absolute</th>\n",
       "      <th>...</th>\n",
       "      <th>youtuber</th>\n",
       "      <th>youtubers</th>\n",
       "      <th>yr</th>\n",
       "      <th>yummy</th>\n",
       "      <th>zach</th>\n",
       "      <th>zero</th>\n",
       "      <th>zifn</th>\n",
       "      <th>zifn son</th>\n",
       "      <th>zombie</th>\n",
       "      <th>zoom</th>\n",
       "    </tr>\n",
       "  </thead>\n",
       "  <tbody>\n",
       "    <tr>\n",
       "      <th>0</th>\n",
       "      <td>672.0</td>\n",
       "      <td>135612.0</td>\n",
       "      <td>let forget apple pay required brand new iphone...</td>\n",
       "      <td>95.0</td>\n",
       "      <td>1.0</td>\n",
       "      <td>0</td>\n",
       "      <td>0</td>\n",
       "      <td>0</td>\n",
       "      <td>1</td>\n",
       "      <td>0</td>\n",
       "      <td>...</td>\n",
       "      <td>0</td>\n",
       "      <td>0</td>\n",
       "      <td>0</td>\n",
       "      <td>0</td>\n",
       "      <td>0</td>\n",
       "      <td>0</td>\n",
       "      <td>0</td>\n",
       "      <td>0</td>\n",
       "      <td>0</td>\n",
       "      <td>0</td>\n",
       "    </tr>\n",
       "    <tr>\n",
       "      <th>1</th>\n",
       "      <td>672.0</td>\n",
       "      <td>135612.0</td>\n",
       "      <td>nz retailer even contactless credit card machi...</td>\n",
       "      <td>19.0</td>\n",
       "      <td>0.0</td>\n",
       "      <td>0</td>\n",
       "      <td>0</td>\n",
       "      <td>0</td>\n",
       "      <td>0</td>\n",
       "      <td>0</td>\n",
       "      <td>...</td>\n",
       "      <td>0</td>\n",
       "      <td>0</td>\n",
       "      <td>0</td>\n",
       "      <td>0</td>\n",
       "      <td>0</td>\n",
       "      <td>0</td>\n",
       "      <td>0</td>\n",
       "      <td>0</td>\n",
       "      <td>0</td>\n",
       "      <td>0</td>\n",
       "    </tr>\n",
       "    <tr>\n",
       "      <th>2</th>\n",
       "      <td>672.0</td>\n",
       "      <td>135612.0</td>\n",
       "      <td>forever acknowledge channel help lesson idea e...</td>\n",
       "      <td>161.0</td>\n",
       "      <td>2.0</td>\n",
       "      <td>0</td>\n",
       "      <td>0</td>\n",
       "      <td>0</td>\n",
       "      <td>0</td>\n",
       "      <td>0</td>\n",
       "      <td>...</td>\n",
       "      <td>0</td>\n",
       "      <td>0</td>\n",
       "      <td>0</td>\n",
       "      <td>0</td>\n",
       "      <td>0</td>\n",
       "      <td>0</td>\n",
       "      <td>0</td>\n",
       "      <td>0</td>\n",
       "      <td>0</td>\n",
       "      <td>0</td>\n",
       "    </tr>\n",
       "    <tr>\n",
       "      <th>3</th>\n",
       "      <td>672.0</td>\n",
       "      <td>135612.0</td>\n",
       "      <td>whenever go place take apple pay happen often ...</td>\n",
       "      <td>8.0</td>\n",
       "      <td>0.0</td>\n",
       "      <td>0</td>\n",
       "      <td>0</td>\n",
       "      <td>0</td>\n",
       "      <td>0</td>\n",
       "      <td>0</td>\n",
       "      <td>...</td>\n",
       "      <td>0</td>\n",
       "      <td>0</td>\n",
       "      <td>0</td>\n",
       "      <td>0</td>\n",
       "      <td>0</td>\n",
       "      <td>0</td>\n",
       "      <td>0</td>\n",
       "      <td>0</td>\n",
       "      <td>0</td>\n",
       "      <td>0</td>\n",
       "    </tr>\n",
       "    <tr>\n",
       "      <th>4</th>\n",
       "      <td>672.0</td>\n",
       "      <td>135612.0</td>\n",
       "      <td>apple pay convenient secure easy use used kore...</td>\n",
       "      <td>34.0</td>\n",
       "      <td>2.0</td>\n",
       "      <td>0</td>\n",
       "      <td>0</td>\n",
       "      <td>0</td>\n",
       "      <td>0</td>\n",
       "      <td>0</td>\n",
       "      <td>...</td>\n",
       "      <td>0</td>\n",
       "      <td>0</td>\n",
       "      <td>0</td>\n",
       "      <td>0</td>\n",
       "      <td>0</td>\n",
       "      <td>0</td>\n",
       "      <td>0</td>\n",
       "      <td>0</td>\n",
       "      <td>0</td>\n",
       "      <td>0</td>\n",
       "    </tr>\n",
       "  </tbody>\n",
       "</table>\n",
       "<p>5 rows × 3005 columns</p>\n",
       "</div>"
      ],
      "text/plain": [
       "   No of Comments     Views  \\\n",
       "0           672.0  135612.0   \n",
       "1           672.0  135612.0   \n",
       "2           672.0  135612.0   \n",
       "3           672.0  135612.0   \n",
       "4           672.0  135612.0   \n",
       "\n",
       "                                             Comment  Comment Likes  \\\n",
       "0  let forget apple pay required brand new iphone...           95.0   \n",
       "1  nz retailer even contactless credit card machi...           19.0   \n",
       "2  forever acknowledge channel help lesson idea e...          161.0   \n",
       "3  whenever go place take apple pay happen often ...            8.0   \n",
       "4  apple pay convenient secure easy use used kore...           34.0   \n",
       "\n",
       "   Sentiment  abian  abian apreciado  ability  able  absolute  ...  youtuber  \\\n",
       "0        1.0      0                0        0     1         0  ...         0   \n",
       "1        0.0      0                0        0     0         0  ...         0   \n",
       "2        2.0      0                0        0     0         0  ...         0   \n",
       "3        0.0      0                0        0     0         0  ...         0   \n",
       "4        2.0      0                0        0     0         0  ...         0   \n",
       "\n",
       "   youtubers  yr  yummy  zach  zero  zifn  zifn son  zombie  zoom  \n",
       "0          0   0      0     0     0     0         0       0     0  \n",
       "1          0   0      0     0     0     0         0       0     0  \n",
       "2          0   0      0     0     0     0         0       0     0  \n",
       "3          0   0      0     0     0     0         0       0     0  \n",
       "4          0   0      0     0     0     0         0       0     0  \n",
       "\n",
       "[5 rows x 3005 columns]"
      ]
     },
     "execution_count": 59,
     "metadata": {},
     "output_type": "execute_result"
    }
   ],
   "source": [
    "# Concatenate the vectorized comments with the original data\n",
    "final_data = pd.concat([X, X_vectorized], axis=1)\n",
    "final_data.head()"
   ]
  },
  {
   "cell_type": "markdown",
   "id": "d95ed9a8",
   "metadata": {},
   "source": [
    "### Remove Comment Column"
   ]
  },
  {
   "cell_type": "code",
   "execution_count": 60,
   "id": "271c2994",
   "metadata": {},
   "outputs": [
    {
     "data": {
      "text/html": [
       "<div>\n",
       "<style scoped>\n",
       "    .dataframe tbody tr th:only-of-type {\n",
       "        vertical-align: middle;\n",
       "    }\n",
       "\n",
       "    .dataframe tbody tr th {\n",
       "        vertical-align: top;\n",
       "    }\n",
       "\n",
       "    .dataframe thead th {\n",
       "        text-align: right;\n",
       "    }\n",
       "</style>\n",
       "<table border=\"1\" class=\"dataframe\">\n",
       "  <thead>\n",
       "    <tr style=\"text-align: right;\">\n",
       "      <th></th>\n",
       "      <th>No of Comments</th>\n",
       "      <th>Views</th>\n",
       "      <th>Comment Likes</th>\n",
       "      <th>Sentiment</th>\n",
       "      <th>abian</th>\n",
       "      <th>abian apreciado</th>\n",
       "      <th>ability</th>\n",
       "      <th>able</th>\n",
       "      <th>absolute</th>\n",
       "      <th>absolutely</th>\n",
       "      <th>...</th>\n",
       "      <th>youtuber</th>\n",
       "      <th>youtubers</th>\n",
       "      <th>yr</th>\n",
       "      <th>yummy</th>\n",
       "      <th>zach</th>\n",
       "      <th>zero</th>\n",
       "      <th>zifn</th>\n",
       "      <th>zifn son</th>\n",
       "      <th>zombie</th>\n",
       "      <th>zoom</th>\n",
       "    </tr>\n",
       "  </thead>\n",
       "  <tbody>\n",
       "    <tr>\n",
       "      <th>0</th>\n",
       "      <td>672.0</td>\n",
       "      <td>135612.0</td>\n",
       "      <td>95.0</td>\n",
       "      <td>1.0</td>\n",
       "      <td>0</td>\n",
       "      <td>0</td>\n",
       "      <td>0</td>\n",
       "      <td>1</td>\n",
       "      <td>0</td>\n",
       "      <td>0</td>\n",
       "      <td>...</td>\n",
       "      <td>0</td>\n",
       "      <td>0</td>\n",
       "      <td>0</td>\n",
       "      <td>0</td>\n",
       "      <td>0</td>\n",
       "      <td>0</td>\n",
       "      <td>0</td>\n",
       "      <td>0</td>\n",
       "      <td>0</td>\n",
       "      <td>0</td>\n",
       "    </tr>\n",
       "    <tr>\n",
       "      <th>1</th>\n",
       "      <td>672.0</td>\n",
       "      <td>135612.0</td>\n",
       "      <td>19.0</td>\n",
       "      <td>0.0</td>\n",
       "      <td>0</td>\n",
       "      <td>0</td>\n",
       "      <td>0</td>\n",
       "      <td>0</td>\n",
       "      <td>0</td>\n",
       "      <td>0</td>\n",
       "      <td>...</td>\n",
       "      <td>0</td>\n",
       "      <td>0</td>\n",
       "      <td>0</td>\n",
       "      <td>0</td>\n",
       "      <td>0</td>\n",
       "      <td>0</td>\n",
       "      <td>0</td>\n",
       "      <td>0</td>\n",
       "      <td>0</td>\n",
       "      <td>0</td>\n",
       "    </tr>\n",
       "    <tr>\n",
       "      <th>2</th>\n",
       "      <td>672.0</td>\n",
       "      <td>135612.0</td>\n",
       "      <td>161.0</td>\n",
       "      <td>2.0</td>\n",
       "      <td>0</td>\n",
       "      <td>0</td>\n",
       "      <td>0</td>\n",
       "      <td>0</td>\n",
       "      <td>0</td>\n",
       "      <td>0</td>\n",
       "      <td>...</td>\n",
       "      <td>0</td>\n",
       "      <td>0</td>\n",
       "      <td>0</td>\n",
       "      <td>0</td>\n",
       "      <td>0</td>\n",
       "      <td>0</td>\n",
       "      <td>0</td>\n",
       "      <td>0</td>\n",
       "      <td>0</td>\n",
       "      <td>0</td>\n",
       "    </tr>\n",
       "    <tr>\n",
       "      <th>3</th>\n",
       "      <td>672.0</td>\n",
       "      <td>135612.0</td>\n",
       "      <td>8.0</td>\n",
       "      <td>0.0</td>\n",
       "      <td>0</td>\n",
       "      <td>0</td>\n",
       "      <td>0</td>\n",
       "      <td>0</td>\n",
       "      <td>0</td>\n",
       "      <td>0</td>\n",
       "      <td>...</td>\n",
       "      <td>0</td>\n",
       "      <td>0</td>\n",
       "      <td>0</td>\n",
       "      <td>0</td>\n",
       "      <td>0</td>\n",
       "      <td>0</td>\n",
       "      <td>0</td>\n",
       "      <td>0</td>\n",
       "      <td>0</td>\n",
       "      <td>0</td>\n",
       "    </tr>\n",
       "    <tr>\n",
       "      <th>4</th>\n",
       "      <td>672.0</td>\n",
       "      <td>135612.0</td>\n",
       "      <td>34.0</td>\n",
       "      <td>2.0</td>\n",
       "      <td>0</td>\n",
       "      <td>0</td>\n",
       "      <td>0</td>\n",
       "      <td>0</td>\n",
       "      <td>0</td>\n",
       "      <td>0</td>\n",
       "      <td>...</td>\n",
       "      <td>0</td>\n",
       "      <td>0</td>\n",
       "      <td>0</td>\n",
       "      <td>0</td>\n",
       "      <td>0</td>\n",
       "      <td>0</td>\n",
       "      <td>0</td>\n",
       "      <td>0</td>\n",
       "      <td>0</td>\n",
       "      <td>0</td>\n",
       "    </tr>\n",
       "    <tr>\n",
       "      <th>...</th>\n",
       "      <td>...</td>\n",
       "      <td>...</td>\n",
       "      <td>...</td>\n",
       "      <td>...</td>\n",
       "      <td>...</td>\n",
       "      <td>...</td>\n",
       "      <td>...</td>\n",
       "      <td>...</td>\n",
       "      <td>...</td>\n",
       "      <td>...</td>\n",
       "      <td>...</td>\n",
       "      <td>...</td>\n",
       "      <td>...</td>\n",
       "      <td>...</td>\n",
       "      <td>...</td>\n",
       "      <td>...</td>\n",
       "      <td>...</td>\n",
       "      <td>...</td>\n",
       "      <td>...</td>\n",
       "      <td>...</td>\n",
       "      <td>...</td>\n",
       "    </tr>\n",
       "    <tr>\n",
       "      <th>18619</th>\n",
       "      <td>443.0</td>\n",
       "      <td>226152.0</td>\n",
       "      <td>21.0</td>\n",
       "      <td>2.0</td>\n",
       "      <td>0</td>\n",
       "      <td>0</td>\n",
       "      <td>0</td>\n",
       "      <td>0</td>\n",
       "      <td>0</td>\n",
       "      <td>0</td>\n",
       "      <td>...</td>\n",
       "      <td>0</td>\n",
       "      <td>0</td>\n",
       "      <td>0</td>\n",
       "      <td>0</td>\n",
       "      <td>0</td>\n",
       "      <td>0</td>\n",
       "      <td>0</td>\n",
       "      <td>0</td>\n",
       "      <td>0</td>\n",
       "      <td>0</td>\n",
       "    </tr>\n",
       "    <tr>\n",
       "      <th>18620</th>\n",
       "      <td>443.0</td>\n",
       "      <td>226152.0</td>\n",
       "      <td>159.0</td>\n",
       "      <td>2.0</td>\n",
       "      <td>0</td>\n",
       "      <td>0</td>\n",
       "      <td>0</td>\n",
       "      <td>0</td>\n",
       "      <td>0</td>\n",
       "      <td>0</td>\n",
       "      <td>...</td>\n",
       "      <td>0</td>\n",
       "      <td>0</td>\n",
       "      <td>0</td>\n",
       "      <td>0</td>\n",
       "      <td>0</td>\n",
       "      <td>0</td>\n",
       "      <td>0</td>\n",
       "      <td>0</td>\n",
       "      <td>0</td>\n",
       "      <td>0</td>\n",
       "    </tr>\n",
       "    <tr>\n",
       "      <th>18621</th>\n",
       "      <td>443.0</td>\n",
       "      <td>226152.0</td>\n",
       "      <td>66.0</td>\n",
       "      <td>2.0</td>\n",
       "      <td>0</td>\n",
       "      <td>0</td>\n",
       "      <td>0</td>\n",
       "      <td>0</td>\n",
       "      <td>0</td>\n",
       "      <td>0</td>\n",
       "      <td>...</td>\n",
       "      <td>0</td>\n",
       "      <td>0</td>\n",
       "      <td>0</td>\n",
       "      <td>0</td>\n",
       "      <td>0</td>\n",
       "      <td>0</td>\n",
       "      <td>0</td>\n",
       "      <td>0</td>\n",
       "      <td>0</td>\n",
       "      <td>0</td>\n",
       "    </tr>\n",
       "    <tr>\n",
       "      <th>18622</th>\n",
       "      <td>443.0</td>\n",
       "      <td>226152.0</td>\n",
       "      <td>26.0</td>\n",
       "      <td>2.0</td>\n",
       "      <td>0</td>\n",
       "      <td>0</td>\n",
       "      <td>0</td>\n",
       "      <td>0</td>\n",
       "      <td>0</td>\n",
       "      <td>0</td>\n",
       "      <td>...</td>\n",
       "      <td>0</td>\n",
       "      <td>0</td>\n",
       "      <td>0</td>\n",
       "      <td>0</td>\n",
       "      <td>0</td>\n",
       "      <td>0</td>\n",
       "      <td>0</td>\n",
       "      <td>0</td>\n",
       "      <td>0</td>\n",
       "      <td>0</td>\n",
       "    </tr>\n",
       "    <tr>\n",
       "      <th>18623</th>\n",
       "      <td>443.0</td>\n",
       "      <td>226152.0</td>\n",
       "      <td>38.0</td>\n",
       "      <td>2.0</td>\n",
       "      <td>0</td>\n",
       "      <td>0</td>\n",
       "      <td>0</td>\n",
       "      <td>0</td>\n",
       "      <td>0</td>\n",
       "      <td>0</td>\n",
       "      <td>...</td>\n",
       "      <td>0</td>\n",
       "      <td>0</td>\n",
       "      <td>0</td>\n",
       "      <td>0</td>\n",
       "      <td>0</td>\n",
       "      <td>0</td>\n",
       "      <td>0</td>\n",
       "      <td>0</td>\n",
       "      <td>0</td>\n",
       "      <td>0</td>\n",
       "    </tr>\n",
       "  </tbody>\n",
       "</table>\n",
       "<p>18624 rows × 3004 columns</p>\n",
       "</div>"
      ],
      "text/plain": [
       "       No of Comments     Views  Comment Likes  Sentiment  abian  \\\n",
       "0               672.0  135612.0           95.0        1.0      0   \n",
       "1               672.0  135612.0           19.0        0.0      0   \n",
       "2               672.0  135612.0          161.0        2.0      0   \n",
       "3               672.0  135612.0            8.0        0.0      0   \n",
       "4               672.0  135612.0           34.0        2.0      0   \n",
       "...               ...       ...            ...        ...    ...   \n",
       "18619           443.0  226152.0           21.0        2.0      0   \n",
       "18620           443.0  226152.0          159.0        2.0      0   \n",
       "18621           443.0  226152.0           66.0        2.0      0   \n",
       "18622           443.0  226152.0           26.0        2.0      0   \n",
       "18623           443.0  226152.0           38.0        2.0      0   \n",
       "\n",
       "       abian apreciado  ability  able  absolute  absolutely  ...  youtuber  \\\n",
       "0                    0        0     1         0           0  ...         0   \n",
       "1                    0        0     0         0           0  ...         0   \n",
       "2                    0        0     0         0           0  ...         0   \n",
       "3                    0        0     0         0           0  ...         0   \n",
       "4                    0        0     0         0           0  ...         0   \n",
       "...                ...      ...   ...       ...         ...  ...       ...   \n",
       "18619                0        0     0         0           0  ...         0   \n",
       "18620                0        0     0         0           0  ...         0   \n",
       "18621                0        0     0         0           0  ...         0   \n",
       "18622                0        0     0         0           0  ...         0   \n",
       "18623                0        0     0         0           0  ...         0   \n",
       "\n",
       "       youtubers  yr  yummy  zach  zero  zifn  zifn son  zombie  zoom  \n",
       "0              0   0      0     0     0     0         0       0     0  \n",
       "1              0   0      0     0     0     0         0       0     0  \n",
       "2              0   0      0     0     0     0         0       0     0  \n",
       "3              0   0      0     0     0     0         0       0     0  \n",
       "4              0   0      0     0     0     0         0       0     0  \n",
       "...          ...  ..    ...   ...   ...   ...       ...     ...   ...  \n",
       "18619          0   0      0     0     0     0         0       0     0  \n",
       "18620          0   0      0     0     0     0         0       0     0  \n",
       "18621          0   0      0     0     0     0         0       0     0  \n",
       "18622          0   0      0     0     0     0         0       0     0  \n",
       "18623          0   0      0     0     0     0         0       0     0  \n",
       "\n",
       "[18624 rows x 3004 columns]"
      ]
     },
     "execution_count": 60,
     "metadata": {},
     "output_type": "execute_result"
    }
   ],
   "source": [
    "#remove comment column\n",
    "final_data = final_data.drop(columns = \"Comment\")\n",
    "final_data"
   ]
  },
  {
   "cell_type": "markdown",
   "id": "578d2686",
   "metadata": {},
   "source": [
    "## 9. Train Test Split"
   ]
  },
  {
   "cell_type": "code",
   "execution_count": 61,
   "id": "36d6856a",
   "metadata": {},
   "outputs": [],
   "source": [
    "#split the data into train and test set\n",
    "X_train, X_test, y_train, y_test = train_test_split(final_data, y ,test_size = 0.2, random_state = 5)"
   ]
  },
  {
   "cell_type": "markdown",
   "id": "bfd206b0",
   "metadata": {},
   "source": [
    "## 10. Scaling "
   ]
  },
  {
   "cell_type": "markdown",
   "id": "59719054",
   "metadata": {},
   "source": [
    "from sklearn.preprocessing import StandardScaler"
   ]
  },
  {
   "cell_type": "code",
   "execution_count": 62,
   "id": "549759ac",
   "metadata": {},
   "outputs": [],
   "source": [
    "# Initialize the StandardScaler\n",
    "scaler = StandardScaler()\n",
    "\n",
    "# Perform scaling on the train dataset\n",
    "X_train = scaler.fit_transform(X_train)\n",
    "\n",
    "# Perform scaling on the train dataset\n",
    "X_test = scaler.transform(X_test)"
   ]
  },
  {
   "cell_type": "code",
   "execution_count": 63,
   "id": "58637445",
   "metadata": {},
   "outputs": [
    {
     "data": {
      "text/plain": [
       "array([[-2.02741844e-01, -1.06505998e-01, -9.02144109e-02, ...,\n",
       "        -3.06682926e-02, -2.56553153e-02, -3.49546735e-02],\n",
       "       [ 2.31726361e-02, -9.69504073e-02, -7.41924399e-02, ...,\n",
       "        -3.06682926e-02, -2.56553153e-02, -3.49546735e-02],\n",
       "       [-2.10994181e-01, -1.07626654e-01, -9.33297941e-02, ...,\n",
       "        -3.06682926e-02, -2.56553153e-02, -3.49546735e-02],\n",
       "       ...,\n",
       "       [ 1.95484458e+01,  3.69740178e+01, -9.25286956e-02, ...,\n",
       "        -3.06682926e-02, -2.56553153e-02, -3.49546735e-02],\n",
       "       [-1.98966265e-01, -1.06018572e-01, -9.30627613e-02, ...,\n",
       "        -3.06682926e-02, -2.56553153e-02, -3.49546735e-02],\n",
       "       [ 1.14824131e+00,  1.54873746e-01, -7.73078231e-02, ...,\n",
       "        -3.06682926e-02, -2.56553153e-02, -3.49546735e-02]])"
      ]
     },
     "execution_count": 63,
     "metadata": {},
     "output_type": "execute_result"
    }
   ],
   "source": [
    "# view X_train\n",
    "X_train"
   ]
  },
  {
   "cell_type": "code",
   "execution_count": 64,
   "id": "be2f12ab",
   "metadata": {},
   "outputs": [
    {
     "data": {
      "text/plain": [
       "array([[-0.20608593, -0.10489155, -0.09306276, ..., -0.03066829,\n",
       "        -0.02565532, -0.03495467],\n",
       "       [-0.05198836, -0.02553341,  0.37985242, ..., -0.03066829,\n",
       "        -0.02565532, -0.03495467],\n",
       "       [-0.04993876, -0.07010719, -0.09306276, ..., -0.03066829,\n",
       "        -0.02565532, -0.03495467],\n",
       "       ...,\n",
       "       [-0.17847026, -0.05492154, -0.0917276 , ..., -0.03066829,\n",
       "        -0.02565532, -0.03495467],\n",
       "       [-0.17512618,  0.03778355, -0.09324078, ..., -0.03066829,\n",
       "        -0.02565532, -0.03495467],\n",
       "       [-0.16485121, -0.10450328, -0.08692101, ..., -0.03066829,\n",
       "        -0.02565532, -0.03495467]])"
      ]
     },
     "execution_count": 64,
     "metadata": {},
     "output_type": "execute_result"
    }
   ],
   "source": [
    "# view X_test\n",
    "X_test"
   ]
  },
  {
   "cell_type": "markdown",
   "id": "87b7969a",
   "metadata": {},
   "source": [
    "## 11. Model Traininig and Evaluation"
   ]
  },
  {
   "cell_type": "markdown",
   "id": "70fff481",
   "metadata": {},
   "source": [
    "### Decision Tree Regressor"
   ]
  },
  {
   "cell_type": "code",
   "execution_count": 68,
   "id": "9e87064c",
   "metadata": {},
   "outputs": [
    {
     "name": "stdout",
     "output_type": "stream",
     "text": [
      "Mean Squared Error (MSE): 780026413.0198358\n",
      "Mean Absolute Error (MAE): 2546.195794183445\n",
      "R2-score: 0.9988116910680711\n"
     ]
    }
   ],
   "source": [
    "# Create and fit the Decision Tree Regression model\n",
    "decision_tree = DecisionTreeRegressor()\n",
    "decision_tree.fit(X_train, y_train)\n",
    "\n",
    "# Predict on the test set\n",
    "y_pred = decision_tree.predict(X_test)\n",
    "\n",
    "\n",
    "# Evaluate the model\n",
    "\n",
    "# Calculate Mean Squared Error (MSE)\n",
    "mse = mean_squared_error(y_test, y_pred)\n",
    "\n",
    "# Calculate Mean Absolute Error (MAE)\n",
    "mae = mean_absolute_error(y_test, y_pred)\n",
    "\n",
    "# Calculate R2-score\n",
    "r2 = r2_score(y_test, y_pred)\n",
    "\n",
    "# Print the metrics\n",
    "print(\"Mean Squared Error (MSE):\", mse)\n",
    "print(\"Mean Absolute Error (MAE):\", mae)\n",
    "print(\"R2-score:\", r2)\n"
   ]
  },
  {
   "cell_type": "markdown",
   "id": "deef9d17",
   "metadata": {},
   "source": [
    "### Random Forest Regressor"
   ]
  },
  {
   "cell_type": "code",
   "execution_count": 69,
   "id": "b01e837b",
   "metadata": {},
   "outputs": [
    {
     "name": "stdout",
     "output_type": "stream",
     "text": [
      "Mean Squared Error (MSE): 1124419410.1366446\n",
      "Mean Absolute Error (MAE): 7154.453712550044\n",
      "R2-score: 0.998287035405472\n"
     ]
    }
   ],
   "source": [
    "# Create and fit the Random Forest Regression model\n",
    "random_forest = RandomForestRegressor()\n",
    "random_forest.fit(X_train, y_train)\n",
    "\n",
    "# Predict on the test set\n",
    "y_pred = random_forest.predict(X_test)\n",
    "\n",
    "# Evaluate the model\n",
    "\n",
    "# Calculate Mean Squared Error (MSE)\n",
    "mse = mean_squared_error(y_test, y_pred)\n",
    "\n",
    "# Calculate Mean Absolute Error (MAE)\n",
    "mae = mean_absolute_error(y_test, y_pred)\n",
    "\n",
    "# Calculate R2-score\n",
    "r2 = r2_score(y_test, y_pred)\n",
    "\n",
    "# Print the metrics\n",
    "print(\"Mean Squared Error (MSE):\", mse)\n",
    "print(\"Mean Absolute Error (MAE):\", mae)\n",
    "print(\"R2-score:\", r2)\n"
   ]
  },
  {
   "cell_type": "markdown",
   "id": "300438f1",
   "metadata": {},
   "source": [
    "### Gradient Boosting Regressor"
   ]
  },
  {
   "cell_type": "code",
   "execution_count": 67,
   "id": "e4cca0de",
   "metadata": {},
   "outputs": [
    {
     "name": "stdout",
     "output_type": "stream",
     "text": [
      "Mean Squared Error (MSE): 7387141277.983803\n",
      "Mean Absolute Error (MAE): 33273.009188345066\n",
      "R2-score: 0.9887462708755405\n"
     ]
    }
   ],
   "source": [
    "# Create the Gradient Boosting Regressor\n",
    "gb_reg = GradientBoostingRegressor()\n",
    "\n",
    "# Fit the model on the training data\n",
    "gb_reg.fit(X_train, y_train)\n",
    "\n",
    "# Make predictions on the test data\n",
    "y_pred = gb_reg.predict(X_test)\n",
    "\n",
    "# Evaluate the model\n",
    "\n",
    "# Calculate Mean Squared Error (MSE)\n",
    "mse = mean_squared_error(y_test, y_pred)\n",
    "\n",
    "# Calculate Mean Absolute Error (MAE)\n",
    "mae = mean_absolute_error(y_test, y_pred)\n",
    "\n",
    "# Calculate R2-score\n",
    "r2 = r2_score(y_test, y_pred)\n",
    "\n",
    "# Print the evaluation metrics\n",
    "print(\"Mean Squared Error (MSE):\", mse)\n",
    "print(\"Mean Absolute Error (MAE):\", mae)\n",
    "print(\"R2-score:\", r2)\n"
   ]
  },
  {
   "cell_type": "markdown",
   "id": "44910e71",
   "metadata": {},
   "source": [
    "## 12. Model Comparison"
   ]
  },
  {
   "cell_type": "markdown",
   "id": "0e53d3d4",
   "metadata": {},
   "source": [
    "Based on the evaluation metrics , here's a comparison of the performance of the three models:\n",
    "\n",
    "Decision Tree:\n",
    "\n",
    "    Mean Squared Error (MSE): 780026413.0198358\n",
    "    Mean Absolute Error (MAE): 2546.195794183445\n",
    "    R2-score: 0.9988116910680711\n",
    "    \n",
    "Random Forest:\n",
    "\n",
    "    Mean Squared Error (MSE): 1124419410.1366446\n",
    "    Mean Absolute Error (MAE): 7154.453712550044\n",
    "    R2-score: 0.998287035405472\n",
    "    \n",
    "Gradient Boosting:\n",
    "\n",
    "    Mean Squared Error (MSE): 7387141277.983803\n",
    "    Mean Absolute Error (MAE): 33273.009188345066\n",
    "    R2-score: 0.9887462708755405\n",
    "    \n",
    "Based on these results, the Decision Tree and Random Forest models outperform the Gradient Boosting model in terms of MSE, MAE, and R2-score. Both Decision Tree and Random Forest have similar R2-scores, indicating a good fit to the data.\n",
    "\n",
    "In terms of model selection, it is important to consider the trade-off between performance and complexity. The Decision Tree model tends to be simpler and more interpretable compared to the Random Forest, as it consists of a single tree. However, the Random Forest model typically provides better generalization and robustness by combining multiple decision trees.\n",
    "\n",
    "Therefore, considering the overall performance and generalization ability, the Random Forest model appears to be the better choice among the three models.  Additionally, Random Forests are less prone to overfitting and can handle larger datasets effectively.\n"
   ]
  },
  {
   "cell_type": "markdown",
   "id": "266fe8db",
   "metadata": {},
   "source": [
    "## Final Model"
   ]
  },
  {
   "cell_type": "markdown",
   "id": "e41255e5",
   "metadata": {},
   "source": [
    "after comparing these 3 different models Random Forest Regressor is chosen as the final model"
   ]
  },
  {
   "cell_type": "code",
   "execution_count": 72,
   "id": "7b079742",
   "metadata": {},
   "outputs": [
    {
     "name": "stdout",
     "output_type": "stream",
     "text": [
      "Mean Squared Error (MSE): 1129332522.523951\n",
      "Mean Absolute Error (MAE): 7159.852608044105\n",
      "R2-score: 0.9982795506649095\n"
     ]
    }
   ],
   "source": [
    "# Create and fit the Random Forest Regression model\n",
    "final_model = RandomForestRegressor()\n",
    "final_model.fit(X_train, y_train)\n",
    "\n",
    "# Predict on the test set\n",
    "y_pred = final_model.predict(X_test)\n",
    "\n",
    "# Evaluate the model\n",
    "\n",
    "# Calculate Mean Squared Error (MSE)\n",
    "mse = mean_squared_error(y_test, y_pred)\n",
    "\n",
    "# Calculate Mean Absolute Error (MAE)\n",
    "mae = mean_absolute_error(y_test, y_pred)\n",
    "\n",
    "# Calculate R2-score\n",
    "r2 = r2_score(y_test, y_pred)\n",
    "\n",
    "# Print the metrics\n",
    "print(\"Mean Squared Error (MSE):\", mse)\n",
    "print(\"Mean Absolute Error (MAE):\", mae)\n",
    "print(\"R2-score:\", r2)"
   ]
  },
  {
   "cell_type": "markdown",
   "id": "7e1db7cd",
   "metadata": {},
   "source": [
    "## Conclusion"
   ]
  },
  {
   "cell_type": "markdown",
   "id": "d47398ac",
   "metadata": {},
   "source": [
    "The project involved several steps including data cleaning, exploratory data analysis (EDA), preprocessing, vectorization, scaling, fitting models, and model comparison. The Random Forest model was selected as the final model. Here's a summary of the project steps and the conclusion:\n",
    "\n",
    "1. Data Cleaning: The initial dataset likely required cleaning to handle missing values, duplicates, or any inconsistencies in the data.\n",
    "\n",
    "2. Exploratory Data Analysis (EDA): EDA was performed to gain insights into the data, understand the distributions, identify correlations, and extract meaningful features.\n",
    "\n",
    "3. Preprocessing: The data preprocessing step involved removing regular expressions, such as numbers and symbols, from the text data. Stop words were removed using NLTK, and lemmatization was applied using NLTK and spaCy to reduce words to their base or root form.\n",
    "\n",
    "4. Vectorization: The preprocessed text data was converted into a numerical representation suitable for machine learning algorithms. CountVectorizer was used to convert the text into a matrix of token counts.\n",
    "\n",
    "5. Scaling: If necessary, feature scaling techniques such as StandardScaler or MinMaxScaler might have been applied to normalize the numerical features.\n",
    "\n",
    "6. Fitting Models: The preprocessed and vectorized data, along with the corresponding labels, were split into training and testing sets. The Random Forest model was trained using the training data.\n",
    "\n",
    "7. Model Comparison: The performance of multiple models, such as Decision Tree and Random Forest, was evaluated using evaluation metrics like Mean Squared Error (MSE) and Mean Absolute Error (MAE). The Random Forest model demonstrated better performance compared to the Decision Tree model.\n",
    "\n",
    "8. Final Model Selection: Based on the comparison, the Random Forest model was selected as the final model due to its superior performance in terms of MSE and MAE and R2 score.\n",
    "\n",
    "In conclusion, through the steps of data cleaning, EDA, preprocessing, vectorization, scaling, fitting models, and model comparison, the Random Forest model emerged as the best choice for the given task. "
   ]
  },
  {
   "cell_type": "markdown",
   "id": "cd1ddf3e",
   "metadata": {},
   "source": [
    "### Project by\n",
    "\n",
    "Vinodhini Rajamanickam\n",
    "\n",
    "Data Science student"
   ]
  },
  {
   "cell_type": "code",
   "execution_count": null,
   "id": "fd9f327d",
   "metadata": {},
   "outputs": [],
   "source": []
  }
 ],
 "metadata": {
  "kernelspec": {
   "display_name": "Python 3 (ipykernel)",
   "language": "python",
   "name": "python3"
  },
  "language_info": {
   "codemirror_mode": {
    "name": "ipython",
    "version": 3
   },
   "file_extension": ".py",
   "mimetype": "text/x-python",
   "name": "python",
   "nbconvert_exporter": "python",
   "pygments_lexer": "ipython3",
   "version": "3.9.12"
  }
 },
 "nbformat": 4,
 "nbformat_minor": 5
}
